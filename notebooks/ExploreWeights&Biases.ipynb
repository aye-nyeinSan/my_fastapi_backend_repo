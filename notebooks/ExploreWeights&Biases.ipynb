{
  "cells": [
    {
      "cell_type": "markdown",
      "metadata": {
        "id": "nO5_4IN56fFh"
      },
      "source": [
        "# **Login Weights & Biases**"
      ]
    },
    {
      "cell_type": "code",
      "execution_count": 2,
      "metadata": {
        "colab": {
          "base_uri": "https://localhost:8080/",
          "height": 211
        },
        "id": "xqPJ1SyK5WtM",
        "outputId": "5882e8e3-f54d-4688-a913-2cccd8595a83"
      },
      "outputs": [
        {
          "data": {
            "application/javascript": "\n        window._wandbApiKey = new Promise((resolve, reject) => {\n            function loadScript(url) {\n            return new Promise(function(resolve, reject) {\n                let newScript = document.createElement(\"script\");\n                newScript.onerror = reject;\n                newScript.onload = resolve;\n                document.body.appendChild(newScript);\n                newScript.src = url;\n            });\n            }\n            loadScript(\"https://cdn.jsdelivr.net/npm/postmate/build/postmate.min.js\").then(() => {\n            const iframe = document.createElement('iframe')\n            iframe.style.cssText = \"width:0;height:0;border:none\"\n            document.body.appendChild(iframe)\n            const handshake = new Postmate({\n                container: iframe,\n                url: 'https://wandb.ai/authorize'\n            });\n            const timeout = setTimeout(() => reject(\"Couldn't auto authenticate\"), 5000)\n            handshake.then(function(child) {\n                child.on('authorize', data => {\n                    clearTimeout(timeout)\n                    resolve(data)\n                });\n            });\n            })\n        });\n    ",
            "text/plain": [
              "<IPython.core.display.Javascript object>"
            ]
          },
          "metadata": {},
          "output_type": "display_data"
        },
        {
          "name": "stderr",
          "output_type": "stream",
          "text": [
            "\u001b[34m\u001b[1mwandb\u001b[0m: Logging into wandb.ai. (Learn how to deploy a W&B server locally: https://wandb.me/wandb-server)\n",
            "\u001b[34m\u001b[1mwandb\u001b[0m: You can find your API key in your browser here: https://wandb.ai/authorize\n",
            "wandb: Paste an API key from your profile and hit enter:"
          ]
        },
        {
          "name": "stdout",
          "output_type": "stream",
          "text": [
            " ··········\n"
          ]
        },
        {
          "name": "stderr",
          "output_type": "stream",
          "text": [
            "\u001b[34m\u001b[1mwandb\u001b[0m: \u001b[33mWARNING\u001b[0m If you're specifying your api key in code, ensure this code is not shared publicly.\n",
            "\u001b[34m\u001b[1mwandb\u001b[0m: \u001b[33mWARNING\u001b[0m Consider setting the WANDB_API_KEY environment variable, or running `wandb login` from the command line.\n",
            "\u001b[34m\u001b[1mwandb\u001b[0m: No netrc file found, creating one.\n",
            "\u001b[34m\u001b[1mwandb\u001b[0m: Appending key for api.wandb.ai to your netrc file: /root/.netrc\n",
            "\u001b[34m\u001b[1mwandb\u001b[0m: Currently logged in as: \u001b[33mayenyeinsan2904\u001b[0m (\u001b[33mayenyeinsan2904-chiang-mai-university\u001b[0m) to \u001b[32mhttps://api.wandb.ai\u001b[0m. Use \u001b[1m`wandb login --relogin`\u001b[0m to force relogin\n"
          ]
        },
        {
          "data": {
            "text/plain": [
              "True"
            ]
          },
          "execution_count": 2,
          "metadata": {},
          "output_type": "execute_result"
        }
      ],
      "source": [
        "import wandb\n",
        "wandb.login() # Login"
      ]
    },
    {
      "cell_type": "markdown",
      "metadata": {
        "id": "AOn7nS0F6HHr"
      },
      "source": [
        "# **Helper Functions:**"
      ]
    },
    {
      "cell_type": "code",
      "execution_count": 3,
      "metadata": {
        "colab": {
          "base_uri": "https://localhost:8080/"
        },
        "id": "CdQcFtJZDH8b",
        "outputId": "10e5f0e5-a1b6-47be-8199-08ec7c1b9f97"
      },
      "outputs": [
        {
          "name": "stdout",
          "output_type": "stream",
          "text": [
            "cpu\n"
          ]
        }
      ],
      "source": [
        "import pandas as pd\n",
        "\n",
        "from sklearn.model_selection import train_test_split\n",
        "from sklearn.preprocessing import StandardScaler\n",
        "from sklearn.ensemble import RandomForestClassifier\n",
        "\n",
        "import torch\n",
        "import torch.nn as nn\n",
        "import torch.optim as optim\n",
        "from torch.utils.data import DataLoader, TensorDataset\n",
        "\n",
        "import joblib\n",
        "\n",
        "def load_raw_titanc():\n",
        "  # Load the Titanic dataset\n",
        "  titanic_url = 'https://raw.githubusercontent.com/datasciencedojo/datasets/master/titanic.csv'\n",
        "  return pd.read_csv(titanic_url)\n",
        "\n",
        "def clean_titanic(titanic_data, fill_missing=True):\n",
        "  df = titanic_data.drop(['PassengerId', 'Name', 'Ticket', 'Cabin'], axis=1)\n",
        "  # Fill missing values\n",
        "  if fill_missing:\n",
        "    df['Age'].fillna(df['Age'].median(), inplace=True)\n",
        "    df['Embarked'].fillna(df['Embarked'].mode()[0], inplace=True)\n",
        "    df['Fare'].fillna(df['Fare'].median(), inplace=True)\n",
        "  else:\n",
        "    df = df.dropna()\n",
        "  # Encode categorical features\n",
        "  df['Sex'] = df['Sex'].map({'male': 0, 'female': 1})\n",
        "  df['Embarked'] = df['Embarked'].map({'C': 0, 'Q': 1, 'S': 2})\n",
        "  return df\n",
        "\n",
        "def load_titanic(cleaned=True, Xy=True):\n",
        "  '''\n",
        "  Returns the titanic dataset\n",
        "  '''\n",
        "  # Get data\n",
        "  df = load_raw_titanc()\n",
        "  # Clean data\n",
        "  if cleaned:\n",
        "    # Drop useless features\n",
        "    df = clean_titanic(df)\n",
        "  # Split Data\n",
        "  if Xy:\n",
        "    return df.drop('Survived', axis=1), df['Survived'] # X, y\n",
        "  return df\n",
        "\n",
        "def get_data_loaders(X_train, X_test, y_train, y_test, batch_size=32):\n",
        "  # Convert to Tensors\n",
        "  X_train_tensor = torch.tensor(X_train.to_numpy(), dtype=torch.float32)\n",
        "  y_train_tensor = torch.tensor(y_train.values, dtype=torch.float32).view(-1, 1)\n",
        "  X_test_tensor = torch.tensor(X_test.to_numpy(), dtype=torch.float32)\n",
        "  y_test_tensor = torch.tensor(y_test.values, dtype=torch.float32).view(-1, 1)\n",
        "\n",
        "  # Create Datasets\n",
        "  train_dataset = TensorDataset(X_train_tensor, y_train_tensor)\n",
        "  test_dataset = TensorDataset(X_test_tensor, y_test_tensor)\n",
        "\n",
        "  # Create DataLoaders\n",
        "  train_loader = DataLoader(train_dataset, batch_size=batch_size, shuffle=True)\n",
        "  test_loader = DataLoader(test_dataset, batch_size=batch_size, shuffle=False)\n",
        "\n",
        "  return train_loader, test_loader\n",
        "\n",
        "def train_loop(train_loader, model, optimizer, criterion, device):\n",
        "  model.train()\n",
        "  epoch_train_loss = 0.0\n",
        "  for batch, labels in train_loader:\n",
        "    batch, labels = batch.to(device), labels.to(device)\n",
        "    optimizer.zero_grad()\n",
        "    # Forward Pass\n",
        "    outputs = model(batch)\n",
        "    loss = criterion(outputs, labels)\n",
        "    # Update Parameters\n",
        "    loss.backward()\n",
        "    optimizer.step()\n",
        "    # Save loss\n",
        "    epoch_train_loss += loss.item() * batch.size(0)\n",
        "  return epoch_train_loss / len(train_loader.dataset)\n",
        "\n",
        "def test_loop(test_loader, model, criterion, device):\n",
        "  model.eval()\n",
        "  epoch_test_loss = 0.0\n",
        "  with torch.no_grad():\n",
        "    for batch, labels in test_loader:\n",
        "      batch, labels = batch.to(device), labels.to(device)\n",
        "      # Calculate predictions\n",
        "      outputs = model(batch)\n",
        "      # Save loss\n",
        "      loss = criterion(outputs, labels)\n",
        "      epoch_test_loss += loss.item() * batch.size(0)\n",
        "  return epoch_test_loss / len(test_loader.dataset)\n",
        "\n",
        "if torch.backends.mps.is_available():\n",
        "    device = torch.device(\"mps\")\n",
        "elif torch.cuda.is_available():\n",
        "    device = torch.device(\"cuda\")\n",
        "else:\n",
        "    device = torch.device(\"cpu\")\n",
        "\n",
        "print(device)"
      ]
    },
    {
      "cell_type": "markdown",
      "metadata": {
        "id": "P0jHk4mw_D5G"
      },
      "source": [
        "# **Simple Scikit-Learn Run**"
      ]
    },
    {
      "cell_type": "code",
      "execution_count": 11,
      "metadata": {
        "colab": {
          "base_uri": "https://localhost:8080/",
          "height": 0
        },
        "collapsed": true,
        "id": "5PbWkIpHa7bz",
        "outputId": "b7b4d3ce-ecd0-4fc3-c423-abd8b1e96396"
      },
      "outputs": [
        {
          "data": {
            "text/html": [
              "Tracking run with wandb version 0.19.11"
            ],
            "text/plain": [
              "<IPython.core.display.HTML object>"
            ]
          },
          "metadata": {},
          "output_type": "display_data"
        },
        {
          "data": {
            "text/html": [
              "Run data is saved locally in <code>/content/wandb/run-20250525_150904-98895g8o</code>"
            ],
            "text/plain": [
              "<IPython.core.display.HTML object>"
            ]
          },
          "metadata": {},
          "output_type": "display_data"
        },
        {
          "data": {
            "text/html": [
              "Syncing run <strong><a href='https://wandb.ai/ayenyeinsan2904-chiang-mai-university/Simple%20Scikit-Learn%20Run/runs/98895g8o' target=\"_blank\">clear-firebrand-1</a></strong> to <a href='https://wandb.ai/ayenyeinsan2904-chiang-mai-university/Simple%20Scikit-Learn%20Run' target=\"_blank\">Weights & Biases</a> (<a href='https://wandb.me/developer-guide' target=\"_blank\">docs</a>)<br>"
            ],
            "text/plain": [
              "<IPython.core.display.HTML object>"
            ]
          },
          "metadata": {},
          "output_type": "display_data"
        },
        {
          "data": {
            "text/html": [
              " View project at <a href='https://wandb.ai/ayenyeinsan2904-chiang-mai-university/Simple%20Scikit-Learn%20Run' target=\"_blank\">https://wandb.ai/ayenyeinsan2904-chiang-mai-university/Simple%20Scikit-Learn%20Run</a>"
            ],
            "text/plain": [
              "<IPython.core.display.HTML object>"
            ]
          },
          "metadata": {},
          "output_type": "display_data"
        },
        {
          "data": {
            "text/html": [
              " View run at <a href='https://wandb.ai/ayenyeinsan2904-chiang-mai-university/Simple%20Scikit-Learn%20Run/runs/98895g8o' target=\"_blank\">https://wandb.ai/ayenyeinsan2904-chiang-mai-university/Simple%20Scikit-Learn%20Run/runs/98895g8o</a>"
            ],
            "text/plain": [
              "<IPython.core.display.HTML object>"
            ]
          },
          "metadata": {},
          "output_type": "display_data"
        },
        {
          "name": "stderr",
          "output_type": "stream",
          "text": [
            "<ipython-input-6-508fe56c84fc>:23: FutureWarning: A value is trying to be set on a copy of a DataFrame or Series through chained assignment using an inplace method.\n",
            "The behavior will change in pandas 3.0. This inplace method will never work because the intermediate object on which we are setting values always behaves as a copy.\n",
            "\n",
            "For example, when doing 'df[col].method(value, inplace=True)', try using 'df.method({col: value}, inplace=True)' or df[col] = df[col].method(value) instead, to perform the operation inplace on the original object.\n",
            "\n",
            "\n",
            "  df['Age'].fillna(df['Age'].median(), inplace=True)\n",
            "<ipython-input-6-508fe56c84fc>:24: FutureWarning: A value is trying to be set on a copy of a DataFrame or Series through chained assignment using an inplace method.\n",
            "The behavior will change in pandas 3.0. This inplace method will never work because the intermediate object on which we are setting values always behaves as a copy.\n",
            "\n",
            "For example, when doing 'df[col].method(value, inplace=True)', try using 'df.method({col: value}, inplace=True)' or df[col] = df[col].method(value) instead, to perform the operation inplace on the original object.\n",
            "\n",
            "\n",
            "  df['Embarked'].fillna(df['Embarked'].mode()[0], inplace=True)\n",
            "<ipython-input-6-508fe56c84fc>:25: FutureWarning: A value is trying to be set on a copy of a DataFrame or Series through chained assignment using an inplace method.\n",
            "The behavior will change in pandas 3.0. This inplace method will never work because the intermediate object on which we are setting values always behaves as a copy.\n",
            "\n",
            "For example, when doing 'df[col].method(value, inplace=True)', try using 'df.method({col: value}, inplace=True)' or df[col] = df[col].method(value) instead, to perform the operation inplace on the original object.\n",
            "\n",
            "\n",
            "  df['Fare'].fillna(df['Fare'].median(), inplace=True)\n"
          ]
        },
        {
          "data": {
            "text/html": [],
            "text/plain": [
              "<IPython.core.display.HTML object>"
            ]
          },
          "metadata": {},
          "output_type": "display_data"
        },
        {
          "data": {
            "text/html": [
              "<br>    <style><br>        .wandb-row {<br>            display: flex;<br>            flex-direction: row;<br>            flex-wrap: wrap;<br>            justify-content: flex-start;<br>            width: 100%;<br>        }<br>        .wandb-col {<br>            display: flex;<br>            flex-direction: column;<br>            flex-basis: 100%;<br>            flex: 1;<br>            padding: 10px;<br>        }<br>    </style><br><div class=\"wandb-row\"><div class=\"wandb-col\"><h3>Run history:</h3><br/><table class=\"wandb\"><tr><td>accuracy</td><td>▁</td></tr></table><br/></div><div class=\"wandb-col\"><h3>Run summary:</h3><br/><table class=\"wandb\"><tr><td>accuracy</td><td>0.78771</td></tr></table><br/></div></div>"
            ],
            "text/plain": [
              "<IPython.core.display.HTML object>"
            ]
          },
          "metadata": {},
          "output_type": "display_data"
        },
        {
          "data": {
            "text/html": [
              " View run <strong style=\"color:#cdcd00\">clear-firebrand-1</strong> at: <a href='https://wandb.ai/ayenyeinsan2904-chiang-mai-university/Simple%20Scikit-Learn%20Run/runs/98895g8o' target=\"_blank\">https://wandb.ai/ayenyeinsan2904-chiang-mai-university/Simple%20Scikit-Learn%20Run/runs/98895g8o</a><br> View project at: <a href='https://wandb.ai/ayenyeinsan2904-chiang-mai-university/Simple%20Scikit-Learn%20Run' target=\"_blank\">https://wandb.ai/ayenyeinsan2904-chiang-mai-university/Simple%20Scikit-Learn%20Run</a><br>Synced 5 W&B file(s), 0 media file(s), 0 artifact file(s) and 0 other file(s)"
            ],
            "text/plain": [
              "<IPython.core.display.HTML object>"
            ]
          },
          "metadata": {},
          "output_type": "display_data"
        },
        {
          "data": {
            "text/html": [
              "Find logs at: <code>./wandb/run-20250525_150904-98895g8o/logs</code>"
            ],
            "text/plain": [
              "<IPython.core.display.HTML object>"
            ]
          },
          "metadata": {},
          "output_type": "display_data"
        }
      ],
      "source": [
        "# Define hyperparameters\n",
        "n_estimators = 30\n",
        "max_depth = 2\n",
        "\n",
        "# Create a new run in a project\n",
        "run = wandb.init(\n",
        "    project=\"Simple Scikit-Learn Run\",\n",
        "    notes=\"commit message for the run\",\n",
        "    config={\n",
        "        \"n_estimators\": n_estimators,\n",
        "        \"max_depth\": max_depth\n",
        "    }\n",
        ")\n",
        "\n",
        "# Get Data\n",
        "X, y = load_titanic()\n",
        "X_train, X_test, y_train, y_test = train_test_split(X, y, test_size=0.2,\n",
        "                                                    random_state=42)\n",
        "\n",
        "# Define Random Forest Classifier\n",
        "clf = RandomForestClassifier(n_estimators=n_estimators, max_depth=max_depth)\n",
        "clf.fit(X_train, y_train)\n",
        "\n",
        "# Log metrics\n",
        "wandb.log({\"accuracy\": clf.score(X_test, y_test)})\n",
        "\n",
        "# Finish the run\n",
        "wandb.finish()"
      ]
    },
    {
      "cell_type": "markdown",
      "metadata": {
        "id": "6_i-310zAOKz"
      },
      "source": [
        "# **Simple PyTorch Run**"
      ]
    },
    {
      "cell_type": "code",
      "execution_count": 12,
      "metadata": {
        "colab": {
          "base_uri": "https://localhost:8080/",
          "height": 0
        },
        "collapsed": true,
        "id": "VQZwPJgr0185",
        "outputId": "2e0a9fd5-4de3-4b0e-9057-1ad044b2cb0f"
      },
      "outputs": [
        {
          "data": {
            "text/html": [
              "Tracking run with wandb version 0.19.11"
            ],
            "text/plain": [
              "<IPython.core.display.HTML object>"
            ]
          },
          "metadata": {},
          "output_type": "display_data"
        },
        {
          "data": {
            "text/html": [
              "Run data is saved locally in <code>/content/wandb/run-20250525_153959-3jsxlewi</code>"
            ],
            "text/plain": [
              "<IPython.core.display.HTML object>"
            ]
          },
          "metadata": {},
          "output_type": "display_data"
        },
        {
          "data": {
            "text/html": [
              "Syncing run <strong><a href='https://wandb.ai/ayenyeinsan2904-chiang-mai-university/Simple%20PyTorch%20Run/runs/3jsxlewi' target=\"_blank\">MyRun3</a></strong> to <a href='https://wandb.ai/ayenyeinsan2904-chiang-mai-university/Simple%20PyTorch%20Run' target=\"_blank\">Weights & Biases</a> (<a href='https://wandb.me/developer-guide' target=\"_blank\">docs</a>)<br>"
            ],
            "text/plain": [
              "<IPython.core.display.HTML object>"
            ]
          },
          "metadata": {},
          "output_type": "display_data"
        },
        {
          "data": {
            "text/html": [
              " View project at <a href='https://wandb.ai/ayenyeinsan2904-chiang-mai-university/Simple%20PyTorch%20Run' target=\"_blank\">https://wandb.ai/ayenyeinsan2904-chiang-mai-university/Simple%20PyTorch%20Run</a>"
            ],
            "text/plain": [
              "<IPython.core.display.HTML object>"
            ]
          },
          "metadata": {},
          "output_type": "display_data"
        },
        {
          "data": {
            "text/html": [
              " View run at <a href='https://wandb.ai/ayenyeinsan2904-chiang-mai-university/Simple%20PyTorch%20Run/runs/3jsxlewi' target=\"_blank\">https://wandb.ai/ayenyeinsan2904-chiang-mai-university/Simple%20PyTorch%20Run/runs/3jsxlewi</a>"
            ],
            "text/plain": [
              "<IPython.core.display.HTML object>"
            ]
          },
          "metadata": {},
          "output_type": "display_data"
        },
        {
          "name": "stderr",
          "output_type": "stream",
          "text": [
            "<ipython-input-6-508fe56c84fc>:23: FutureWarning: A value is trying to be set on a copy of a DataFrame or Series through chained assignment using an inplace method.\n",
            "The behavior will change in pandas 3.0. This inplace method will never work because the intermediate object on which we are setting values always behaves as a copy.\n",
            "\n",
            "For example, when doing 'df[col].method(value, inplace=True)', try using 'df.method({col: value}, inplace=True)' or df[col] = df[col].method(value) instead, to perform the operation inplace on the original object.\n",
            "\n",
            "\n",
            "  df['Age'].fillna(df['Age'].median(), inplace=True)\n",
            "<ipython-input-6-508fe56c84fc>:24: FutureWarning: A value is trying to be set on a copy of a DataFrame or Series through chained assignment using an inplace method.\n",
            "The behavior will change in pandas 3.0. This inplace method will never work because the intermediate object on which we are setting values always behaves as a copy.\n",
            "\n",
            "For example, when doing 'df[col].method(value, inplace=True)', try using 'df.method({col: value}, inplace=True)' or df[col] = df[col].method(value) instead, to perform the operation inplace on the original object.\n",
            "\n",
            "\n",
            "  df['Embarked'].fillna(df['Embarked'].mode()[0], inplace=True)\n",
            "<ipython-input-6-508fe56c84fc>:25: FutureWarning: A value is trying to be set on a copy of a DataFrame or Series through chained assignment using an inplace method.\n",
            "The behavior will change in pandas 3.0. This inplace method will never work because the intermediate object on which we are setting values always behaves as a copy.\n",
            "\n",
            "For example, when doing 'df[col].method(value, inplace=True)', try using 'df.method({col: value}, inplace=True)' or df[col] = df[col].method(value) instead, to perform the operation inplace on the original object.\n",
            "\n",
            "\n",
            "  df['Fare'].fillna(df['Fare'].median(), inplace=True)\n"
          ]
        },
        {
          "name": "stdout",
          "output_type": "stream",
          "text": [
            "[Epoch 1/10] TrainLoss: 0.6622954627101341; TestLoss: 0.5792353802553102\n",
            "[Epoch 2/10] TrainLoss: 0.6088828290446421; TestLoss: 0.5528384490386068\n",
            "[Epoch 3/10] TrainLoss: 0.5903971067975077; TestLoss: 0.5310227717767214\n",
            "[Epoch 4/10] TrainLoss: 0.5809864361634415; TestLoss: 0.5159992725489526\n",
            "[Epoch 5/10] TrainLoss: 0.5643915905711356; TestLoss: 0.49290778000927504\n",
            "[Epoch 6/10] TrainLoss: 0.5251861556192462; TestLoss: 0.4763176189787561\n",
            "[Epoch 7/10] TrainLoss: 0.49219536781311035; TestLoss: 0.575100604715294\n",
            "[Epoch 8/10] TrainLoss: 0.5168125689699409; TestLoss: 0.4816162268209724\n",
            "[Epoch 9/10] TrainLoss: 0.46607794219188475; TestLoss: 0.4658387656318409\n",
            "[Epoch 10/10] TrainLoss: 0.47976387283775246; TestLoss: 0.4577245062955931\n"
          ]
        },
        {
          "data": {
            "text/html": [],
            "text/plain": [
              "<IPython.core.display.HTML object>"
            ]
          },
          "metadata": {},
          "output_type": "display_data"
        },
        {
          "data": {
            "text/html": [
              "<br>    <style><br>        .wandb-row {<br>            display: flex;<br>            flex-direction: row;<br>            flex-wrap: wrap;<br>            justify-content: flex-start;<br>            width: 100%;<br>        }<br>        .wandb-col {<br>            display: flex;<br>            flex-direction: column;<br>            flex-basis: 100%;<br>            flex: 1;<br>            padding: 10px;<br>        }<br>    </style><br><div class=\"wandb-row\"><div class=\"wandb-col\"><h3>Run history:</h3><br/><table class=\"wandb\"><tr><td>test_loss</td><td>█▆▅▄▃▂█▂▁▁</td></tr><tr><td>train_loss</td><td>█▆▅▅▅▃▂▃▁▁</td></tr></table><br/></div><div class=\"wandb-col\"><h3>Run summary:</h3><br/><table class=\"wandb\"><tr><td>test_loss</td><td>0.45772</td></tr><tr><td>train_loss</td><td>0.47976</td></tr></table><br/></div></div>"
            ],
            "text/plain": [
              "<IPython.core.display.HTML object>"
            ]
          },
          "metadata": {},
          "output_type": "display_data"
        },
        {
          "data": {
            "text/html": [
              " View run <strong style=\"color:#cdcd00\">MyRun3</strong> at: <a href='https://wandb.ai/ayenyeinsan2904-chiang-mai-university/Simple%20PyTorch%20Run/runs/3jsxlewi' target=\"_blank\">https://wandb.ai/ayenyeinsan2904-chiang-mai-university/Simple%20PyTorch%20Run/runs/3jsxlewi</a><br> View project at: <a href='https://wandb.ai/ayenyeinsan2904-chiang-mai-university/Simple%20PyTorch%20Run' target=\"_blank\">https://wandb.ai/ayenyeinsan2904-chiang-mai-university/Simple%20PyTorch%20Run</a><br>Synced 5 W&B file(s), 0 media file(s), 0 artifact file(s) and 0 other file(s)"
            ],
            "text/plain": [
              "<IPython.core.display.HTML object>"
            ]
          },
          "metadata": {},
          "output_type": "display_data"
        },
        {
          "data": {
            "text/html": [
              "Find logs at: <code>./wandb/run-20250525_153959-3jsxlewi/logs</code>"
            ],
            "text/plain": [
              "<IPython.core.display.HTML object>"
            ]
          },
          "metadata": {},
          "output_type": "display_data"
        }
      ],
      "source": [
        "# Define hyperparameters\n",
        "num_epochs = 10\n",
        "learning_rate = 0.01\n",
        "run_count = 3\n",
        "\n",
        "# Start a run\n",
        "run = wandb.init(\n",
        "    project=\"Simple PyTorch Run\",\n",
        "    name=f\"MyRun{run_count}\",\n",
        "    config={\n",
        "        \"num_epochs\": num_epochs,\n",
        "        \"learning_rate\": learning_rate\n",
        "    }\n",
        ")\n",
        "\n",
        "# Get Data\n",
        "X, y = load_titanic()\n",
        "X_train, X_test, y_train, y_test = train_test_split(X, y, test_size=0.2,\n",
        "                                                    random_state=42)\n",
        "train_loader, test_loader = get_data_loaders(X_train, X_test, y_train, y_test)\n",
        "\n",
        "# Define Simple PyTorch Model\n",
        "model = nn.Sequential(\n",
        "    nn.Linear(7, 32), # 7 input features -> 32 hidden nodes\n",
        "    nn.ReLU(),\n",
        "    nn.Linear(32, 16),\n",
        "    nn.ReLU(),\n",
        "    nn.Linear(16, 1),\n",
        "    nn.Sigmoid()\n",
        ").to(device)\n",
        "\n",
        "criterion = nn.BCELoss()\n",
        "optimizer = optim.Adam(model.parameters(), lr=learning_rate)\n",
        "\n",
        "for epoch in range(num_epochs):\n",
        "  train_loss = train_loop(train_loader, model, optimizer, criterion, device)\n",
        "  test_loss = test_loop(test_loader, model, criterion, device)\n",
        "\n",
        "  print(f\"[Epoch {epoch+1}/{num_epochs}] TrainLoss: {train_loss}; TestLoss: {test_loss}\")\n",
        "  wandb.log({\n",
        "    \"train_loss\": train_loss,\n",
        "    \"test_loss\": test_loss\n",
        "  })\n",
        "\n",
        "wandb.finish()"
      ]
    },
    {
      "cell_type": "markdown",
      "metadata": {
        "id": "iL1gphpTG8Ly"
      },
      "source": [
        "# Artifacts (Data Registry + Model Registry)\n",
        "First Model Artifacts - Raw Titanic Data"
      ]
    },
    {
      "cell_type": "code",
      "execution_count": 4,
      "metadata": {
        "colab": {
          "base_uri": "https://localhost:8080/",
          "height": 173
        },
        "id": "sBEddE7fIa0O",
        "outputId": "765f8600-f15d-4285-cac3-010ff4946cef"
      },
      "outputs": [
        {
          "data": {
            "text/html": [
              "Tracking run with wandb version 0.19.11"
            ],
            "text/plain": [
              "<IPython.core.display.HTML object>"
            ]
          },
          "metadata": {},
          "output_type": "display_data"
        },
        {
          "data": {
            "text/html": [
              "Run data is saved locally in <code>/content/wandb/run-20250525_181218-14wkrkrp</code>"
            ],
            "text/plain": [
              "<IPython.core.display.HTML object>"
            ]
          },
          "metadata": {},
          "output_type": "display_data"
        },
        {
          "data": {
            "text/html": [
              "Syncing run <strong><a href='https://wandb.ai/ayenyeinsan2904-chiang-mai-university/Artifacts%20Registry/runs/14wkrkrp' target=\"_blank\">skilled-bush-1</a></strong> to <a href='https://wandb.ai/ayenyeinsan2904-chiang-mai-university/Artifacts%20Registry' target=\"_blank\">Weights & Biases</a> (<a href='https://wandb.me/developer-guide' target=\"_blank\">docs</a>)<br>"
            ],
            "text/plain": [
              "<IPython.core.display.HTML object>"
            ]
          },
          "metadata": {},
          "output_type": "display_data"
        },
        {
          "data": {
            "text/html": [
              " View project at <a href='https://wandb.ai/ayenyeinsan2904-chiang-mai-university/Artifacts%20Registry' target=\"_blank\">https://wandb.ai/ayenyeinsan2904-chiang-mai-university/Artifacts%20Registry</a>"
            ],
            "text/plain": [
              "<IPython.core.display.HTML object>"
            ]
          },
          "metadata": {},
          "output_type": "display_data"
        },
        {
          "data": {
            "text/html": [
              " View run at <a href='https://wandb.ai/ayenyeinsan2904-chiang-mai-university/Artifacts%20Registry/runs/14wkrkrp' target=\"_blank\">https://wandb.ai/ayenyeinsan2904-chiang-mai-university/Artifacts%20Registry/runs/14wkrkrp</a>"
            ],
            "text/plain": [
              "<IPython.core.display.HTML object>"
            ]
          },
          "metadata": {},
          "output_type": "display_data"
        },
        {
          "data": {
            "text/html": [],
            "text/plain": [
              "<IPython.core.display.HTML object>"
            ]
          },
          "metadata": {},
          "output_type": "display_data"
        },
        {
          "data": {
            "text/html": [
              " View run <strong style=\"color:#cdcd00\">skilled-bush-1</strong> at: <a href='https://wandb.ai/ayenyeinsan2904-chiang-mai-university/Artifacts%20Registry/runs/14wkrkrp' target=\"_blank\">https://wandb.ai/ayenyeinsan2904-chiang-mai-university/Artifacts%20Registry/runs/14wkrkrp</a><br> View project at: <a href='https://wandb.ai/ayenyeinsan2904-chiang-mai-university/Artifacts%20Registry' target=\"_blank\">https://wandb.ai/ayenyeinsan2904-chiang-mai-university/Artifacts%20Registry</a><br>Synced 5 W&B file(s), 0 media file(s), 2 artifact file(s) and 0 other file(s)"
            ],
            "text/plain": [
              "<IPython.core.display.HTML object>"
            ]
          },
          "metadata": {},
          "output_type": "display_data"
        },
        {
          "data": {
            "text/html": [
              "Find logs at: <code>./wandb/run-20250525_181218-14wkrkrp/logs</code>"
            ],
            "text/plain": [
              "<IPython.core.display.HTML object>"
            ]
          },
          "metadata": {},
          "output_type": "display_data"
        }
      ],
      "source": [
        "run = wandb.init(project=\"Artifacts Registry\", job_type=\"data-loading\")\n",
        "\n",
        "# Save data locally\n",
        "raw_titanic_df = load_titanic(cleaned=False, Xy=False)\n",
        "raw_titanic_df.to_csv('raw_titanic.csv', index=False)  # Save as CSV\n",
        "\n",
        "# Create Artifact object\n",
        "raw_dataset_artifact = wandb.Artifact(name='raw_titanic', type='dataset')\n",
        "\n",
        "# Add files to the artifact (multiple)\n",
        "raw_dataset_artifact.add_file('raw_titanic.csv')\n",
        "\n",
        "# Log the artifact\n",
        "wandb.log_artifact(raw_dataset_artifact, aliases=[\"raw\"])\n",
        "\n",
        "wandb.finish()"
      ]
    },
    {
      "cell_type": "markdown",
      "metadata": {
        "id": "PTJoibersOdK"
      },
      "source": [
        "## Add Cleaned Dataset Artifact (version 0)"
      ]
    },
    {
      "cell_type": "code",
      "execution_count": 5,
      "metadata": {
        "colab": {
          "base_uri": "https://localhost:8080/",
          "height": 0
        },
        "collapsed": true,
        "id": "_nuQ6vYHsS-V",
        "outputId": "1df39868-2f20-4882-91e6-a6c248f548d0"
      },
      "outputs": [
        {
          "data": {
            "text/html": [
              "Tracking run with wandb version 0.19.11"
            ],
            "text/plain": [
              "<IPython.core.display.HTML object>"
            ]
          },
          "metadata": {},
          "output_type": "display_data"
        },
        {
          "data": {
            "text/html": [
              "Run data is saved locally in <code>/content/wandb/run-20250525_182540-wm0pv7a4</code>"
            ],
            "text/plain": [
              "<IPython.core.display.HTML object>"
            ]
          },
          "metadata": {},
          "output_type": "display_data"
        },
        {
          "data": {
            "text/html": [
              "Syncing run <strong><a href='https://wandb.ai/ayenyeinsan2904-chiang-mai-university/Artifacts%20Registry/runs/wm0pv7a4' target=\"_blank\">ethereal-snowball-2</a></strong> to <a href='https://wandb.ai/ayenyeinsan2904-chiang-mai-university/Artifacts%20Registry' target=\"_blank\">Weights & Biases</a> (<a href='https://wandb.me/developer-guide' target=\"_blank\">docs</a>)<br>"
            ],
            "text/plain": [
              "<IPython.core.display.HTML object>"
            ]
          },
          "metadata": {},
          "output_type": "display_data"
        },
        {
          "data": {
            "text/html": [
              " View project at <a href='https://wandb.ai/ayenyeinsan2904-chiang-mai-university/Artifacts%20Registry' target=\"_blank\">https://wandb.ai/ayenyeinsan2904-chiang-mai-university/Artifacts%20Registry</a>"
            ],
            "text/plain": [
              "<IPython.core.display.HTML object>"
            ]
          },
          "metadata": {},
          "output_type": "display_data"
        },
        {
          "data": {
            "text/html": [
              " View run at <a href='https://wandb.ai/ayenyeinsan2904-chiang-mai-university/Artifacts%20Registry/runs/wm0pv7a4' target=\"_blank\">https://wandb.ai/ayenyeinsan2904-chiang-mai-university/Artifacts%20Registry/runs/wm0pv7a4</a>"
            ],
            "text/plain": [
              "<IPython.core.display.HTML object>"
            ]
          },
          "metadata": {},
          "output_type": "display_data"
        },
        {
          "data": {
            "text/html": [],
            "text/plain": [
              "<IPython.core.display.HTML object>"
            ]
          },
          "metadata": {},
          "output_type": "display_data"
        },
        {
          "data": {
            "text/html": [
              " View run <strong style=\"color:#cdcd00\">ethereal-snowball-2</strong> at: <a href='https://wandb.ai/ayenyeinsan2904-chiang-mai-university/Artifacts%20Registry/runs/wm0pv7a4' target=\"_blank\">https://wandb.ai/ayenyeinsan2904-chiang-mai-university/Artifacts%20Registry/runs/wm0pv7a4</a><br> View project at: <a href='https://wandb.ai/ayenyeinsan2904-chiang-mai-university/Artifacts%20Registry' target=\"_blank\">https://wandb.ai/ayenyeinsan2904-chiang-mai-university/Artifacts%20Registry</a><br>Synced 5 W&B file(s), 0 media file(s), 2 artifact file(s) and 0 other file(s)"
            ],
            "text/plain": [
              "<IPython.core.display.HTML object>"
            ]
          },
          "metadata": {},
          "output_type": "display_data"
        },
        {
          "data": {
            "text/html": [
              "Find logs at: <code>./wandb/run-20250525_182540-wm0pv7a4/logs</code>"
            ],
            "text/plain": [
              "<IPython.core.display.HTML object>"
            ]
          },
          "metadata": {},
          "output_type": "display_data"
        }
      ],
      "source": [
        "run = wandb.init(project=\"Artifacts Registry\", job_type=\"data-loading\")\n",
        "\n",
        "# Get clean data\n",
        "clean_titanic_df_dropped = clean_titanic(raw_titanic_df, fill_missing=False)\n",
        "clean_titanic_df_dropped.to_csv('clean_titanic.csv', index=False)\n",
        "\n",
        "# Create and Log New Artifact\n",
        "run.log_artifact(\n",
        "    artifact_or_path=\"clean_titanic.csv\",\n",
        "    name=\"clean_titanic\",\n",
        "    type=\"dataset\",\n",
        "    aliases=[\"dropped\"]\n",
        ")\n",
        "\n",
        "wandb.finish()"
      ]
    },
    {
      "cell_type": "markdown",
      "metadata": {
        "id": "VonYnqjzuFU5"
      },
      "source": [
        "### Create New Cleaned Dataset (version 1)"
      ]
    },
    {
      "cell_type": "code",
      "execution_count": 14,
      "metadata": {
        "colab": {
          "base_uri": "https://localhost:8080/",
          "height": 645
        },
        "collapsed": true,
        "id": "fq-lIRJOuB-v",
        "outputId": "3695be20-034e-4c30-9983-26eb1eb93f93"
      },
      "outputs": [
        {
          "data": {
            "text/html": [
              "Finishing previous runs because reinit is set to 'default'."
            ],
            "text/plain": [
              "<IPython.core.display.HTML object>"
            ]
          },
          "metadata": {},
          "output_type": "display_data"
        },
        {
          "data": {
            "text/html": [],
            "text/plain": [
              "<IPython.core.display.HTML object>"
            ]
          },
          "metadata": {},
          "output_type": "display_data"
        },
        {
          "data": {
            "text/html": [
              " View run <strong style=\"color:#cdcd00\">divine-spaceship-3</strong> at: <a href='https://wandb.ai/ayenyeinsan2904-chiang-mai-university/Artifacts%20Registry/runs/38uttvdk' target=\"_blank\">https://wandb.ai/ayenyeinsan2904-chiang-mai-university/Artifacts%20Registry/runs/38uttvdk</a><br> View project at: <a href='https://wandb.ai/ayenyeinsan2904-chiang-mai-university/Artifacts%20Registry' target=\"_blank\">https://wandb.ai/ayenyeinsan2904-chiang-mai-university/Artifacts%20Registry</a><br>Synced 5 W&B file(s), 0 media file(s), 0 artifact file(s) and 0 other file(s)"
            ],
            "text/plain": [
              "<IPython.core.display.HTML object>"
            ]
          },
          "metadata": {},
          "output_type": "display_data"
        },
        {
          "data": {
            "text/html": [
              "Find logs at: <code>./wandb/run-20250525_183354-38uttvdk/logs</code>"
            ],
            "text/plain": [
              "<IPython.core.display.HTML object>"
            ]
          },
          "metadata": {},
          "output_type": "display_data"
        },
        {
          "data": {
            "text/html": [
              "Tracking run with wandb version 0.19.11"
            ],
            "text/plain": [
              "<IPython.core.display.HTML object>"
            ]
          },
          "metadata": {},
          "output_type": "display_data"
        },
        {
          "data": {
            "text/html": [
              "Run data is saved locally in <code>/content/wandb/run-20250525_183441-cl1c6am2</code>"
            ],
            "text/plain": [
              "<IPython.core.display.HTML object>"
            ]
          },
          "metadata": {},
          "output_type": "display_data"
        },
        {
          "data": {
            "text/html": [
              "Syncing run <strong><a href='https://wandb.ai/ayenyeinsan2904-chiang-mai-university/Artifacts%20Registry/runs/cl1c6am2' target=\"_blank\">classic-cloud-4</a></strong> to <a href='https://wandb.ai/ayenyeinsan2904-chiang-mai-university/Artifacts%20Registry' target=\"_blank\">Weights & Biases</a> (<a href='https://wandb.me/developer-guide' target=\"_blank\">docs</a>)<br>"
            ],
            "text/plain": [
              "<IPython.core.display.HTML object>"
            ]
          },
          "metadata": {},
          "output_type": "display_data"
        },
        {
          "data": {
            "text/html": [
              " View project at <a href='https://wandb.ai/ayenyeinsan2904-chiang-mai-university/Artifacts%20Registry' target=\"_blank\">https://wandb.ai/ayenyeinsan2904-chiang-mai-university/Artifacts%20Registry</a>"
            ],
            "text/plain": [
              "<IPython.core.display.HTML object>"
            ]
          },
          "metadata": {},
          "output_type": "display_data"
        },
        {
          "data": {
            "text/html": [
              " View run at <a href='https://wandb.ai/ayenyeinsan2904-chiang-mai-university/Artifacts%20Registry/runs/cl1c6am2' target=\"_blank\">https://wandb.ai/ayenyeinsan2904-chiang-mai-university/Artifacts%20Registry/runs/cl1c6am2</a>"
            ],
            "text/plain": [
              "<IPython.core.display.HTML object>"
            ]
          },
          "metadata": {},
          "output_type": "display_data"
        },
        {
          "name": "stderr",
          "output_type": "stream",
          "text": [
            "<ipython-input-3-508fe56c84fc>:23: FutureWarning: A value is trying to be set on a copy of a DataFrame or Series through chained assignment using an inplace method.\n",
            "The behavior will change in pandas 3.0. This inplace method will never work because the intermediate object on which we are setting values always behaves as a copy.\n",
            "\n",
            "For example, when doing 'df[col].method(value, inplace=True)', try using 'df.method({col: value}, inplace=True)' or df[col] = df[col].method(value) instead, to perform the operation inplace on the original object.\n",
            "\n",
            "\n",
            "  df['Age'].fillna(df['Age'].median(), inplace=True)\n",
            "<ipython-input-3-508fe56c84fc>:24: FutureWarning: A value is trying to be set on a copy of a DataFrame or Series through chained assignment using an inplace method.\n",
            "The behavior will change in pandas 3.0. This inplace method will never work because the intermediate object on which we are setting values always behaves as a copy.\n",
            "\n",
            "For example, when doing 'df[col].method(value, inplace=True)', try using 'df.method({col: value}, inplace=True)' or df[col] = df[col].method(value) instead, to perform the operation inplace on the original object.\n",
            "\n",
            "\n",
            "  df['Embarked'].fillna(df['Embarked'].mode()[0], inplace=True)\n",
            "<ipython-input-3-508fe56c84fc>:25: FutureWarning: A value is trying to be set on a copy of a DataFrame or Series through chained assignment using an inplace method.\n",
            "The behavior will change in pandas 3.0. This inplace method will never work because the intermediate object on which we are setting values always behaves as a copy.\n",
            "\n",
            "For example, when doing 'df[col].method(value, inplace=True)', try using 'df.method({col: value}, inplace=True)' or df[col] = df[col].method(value) instead, to perform the operation inplace on the original object.\n",
            "\n",
            "\n",
            "  df['Fare'].fillna(df['Fare'].median(), inplace=True)\n"
          ]
        },
        {
          "data": {
            "text/html": [],
            "text/plain": [
              "<IPython.core.display.HTML object>"
            ]
          },
          "metadata": {},
          "output_type": "display_data"
        },
        {
          "data": {
            "text/html": [
              " View run <strong style=\"color:#cdcd00\">classic-cloud-4</strong> at: <a href='https://wandb.ai/ayenyeinsan2904-chiang-mai-university/Artifacts%20Registry/runs/cl1c6am2' target=\"_blank\">https://wandb.ai/ayenyeinsan2904-chiang-mai-university/Artifacts%20Registry/runs/cl1c6am2</a><br> View project at: <a href='https://wandb.ai/ayenyeinsan2904-chiang-mai-university/Artifacts%20Registry' target=\"_blank\">https://wandb.ai/ayenyeinsan2904-chiang-mai-university/Artifacts%20Registry</a><br>Synced 5 W&B file(s), 0 media file(s), 2 artifact file(s) and 0 other file(s)"
            ],
            "text/plain": [
              "<IPython.core.display.HTML object>"
            ]
          },
          "metadata": {},
          "output_type": "display_data"
        },
        {
          "data": {
            "text/html": [
              "Find logs at: <code>./wandb/run-20250525_183441-cl1c6am2/logs</code>"
            ],
            "text/plain": [
              "<IPython.core.display.HTML object>"
            ]
          },
          "metadata": {},
          "output_type": "display_data"
        }
      ],
      "source": [
        "run = wandb.init(project=\"Artifacts Registry\", job_type=\"data-loading\")\n",
        "\n",
        "# Create new artifact version\n",
        "artifact_name = \"clean_titanic\"\n",
        "artifact_old = run.use_artifact(\n",
        "    f'ayenyeinsan2904-chiang-mai-university/Artifacts Registry/{artifact_name}:latest',\n",
        "    type='dataset'\n",
        ")\n",
        "artifact_next_version = wandb.Artifact(artifact_name, type='dataset')\n",
        "\n",
        "# Update the data or get new data for the next version\n",
        "## artifact_old_path = artifact_old.download()\n",
        "## clean_titanic_df_old = pd.read_csv(artifact_old_path)\n",
        "clean_titanic_df_filled = clean_titanic(raw_titanic_df, fill_missing=True)\n",
        "clean_titanic_df_filled.to_csv('clean_titanic.csv', index=False)\n",
        "\n",
        "# Log the new artifact\n",
        "artifact_next_version.add_file('clean_titanic.csv')\n",
        "wandb.log_artifact(artifact_next_version, aliases =[\"filled\"])\n",
        "\n",
        "wandb.finish()"
      ]
    },
    {
      "cell_type": "markdown",
      "metadata": {
        "id": "23LTEDt61VpK"
      },
      "source": [
        "## Create Model Artifact"
      ]
    },
    {
      "cell_type": "code",
      "execution_count": 16,
      "metadata": {
        "colab": {
          "base_uri": "https://localhost:8080/",
          "height": 509
        },
        "id": "xmda2bfO1egD",
        "outputId": "8a2f09d5-9d43-4946-e058-798e3cb462c0"
      },
      "outputs": [
        {
          "data": {
            "text/html": [
              "Finishing previous runs because reinit is set to 'default'."
            ],
            "text/plain": [
              "<IPython.core.display.HTML object>"
            ]
          },
          "metadata": {},
          "output_type": "display_data"
        },
        {
          "data": {
            "text/html": [],
            "text/plain": [
              "<IPython.core.display.HTML object>"
            ]
          },
          "metadata": {},
          "output_type": "display_data"
        },
        {
          "data": {
            "text/html": [
              " View run <strong style=\"color:#cdcd00\">giddy-monkey-5</strong> at: <a href='https://wandb.ai/ayenyeinsan2904-chiang-mai-university/Artifacts%20Registry/runs/9pxa6opc' target=\"_blank\">https://wandb.ai/ayenyeinsan2904-chiang-mai-university/Artifacts%20Registry/runs/9pxa6opc</a><br> View project at: <a href='https://wandb.ai/ayenyeinsan2904-chiang-mai-university/Artifacts%20Registry' target=\"_blank\">https://wandb.ai/ayenyeinsan2904-chiang-mai-university/Artifacts%20Registry</a><br>Synced 5 W&B file(s), 0 media file(s), 0 artifact file(s) and 0 other file(s)"
            ],
            "text/plain": [
              "<IPython.core.display.HTML object>"
            ]
          },
          "metadata": {},
          "output_type": "display_data"
        },
        {
          "data": {
            "text/html": [
              "Find logs at: <code>./wandb/run-20250525_190530-9pxa6opc/logs</code>"
            ],
            "text/plain": [
              "<IPython.core.display.HTML object>"
            ]
          },
          "metadata": {},
          "output_type": "display_data"
        },
        {
          "data": {
            "text/html": [
              "Tracking run with wandb version 0.19.11"
            ],
            "text/plain": [
              "<IPython.core.display.HTML object>"
            ]
          },
          "metadata": {},
          "output_type": "display_data"
        },
        {
          "data": {
            "text/html": [
              "Run data is saved locally in <code>/content/wandb/run-20250525_190651-z87zdyuo</code>"
            ],
            "text/plain": [
              "<IPython.core.display.HTML object>"
            ]
          },
          "metadata": {},
          "output_type": "display_data"
        },
        {
          "data": {
            "text/html": [
              "Syncing run <strong><a href='https://wandb.ai/ayenyeinsan2904-chiang-mai-university/Artifacts%20Registry/runs/z87zdyuo' target=\"_blank\">wild-eon-6</a></strong> to <a href='https://wandb.ai/ayenyeinsan2904-chiang-mai-university/Artifacts%20Registry' target=\"_blank\">Weights & Biases</a> (<a href='https://wandb.me/developer-guide' target=\"_blank\">docs</a>)<br>"
            ],
            "text/plain": [
              "<IPython.core.display.HTML object>"
            ]
          },
          "metadata": {},
          "output_type": "display_data"
        },
        {
          "data": {
            "text/html": [
              " View project at <a href='https://wandb.ai/ayenyeinsan2904-chiang-mai-university/Artifacts%20Registry' target=\"_blank\">https://wandb.ai/ayenyeinsan2904-chiang-mai-university/Artifacts%20Registry</a>"
            ],
            "text/plain": [
              "<IPython.core.display.HTML object>"
            ]
          },
          "metadata": {},
          "output_type": "display_data"
        },
        {
          "data": {
            "text/html": [
              " View run at <a href='https://wandb.ai/ayenyeinsan2904-chiang-mai-university/Artifacts%20Registry/runs/z87zdyuo' target=\"_blank\">https://wandb.ai/ayenyeinsan2904-chiang-mai-university/Artifacts%20Registry/runs/z87zdyuo</a>"
            ],
            "text/plain": [
              "<IPython.core.display.HTML object>"
            ]
          },
          "metadata": {},
          "output_type": "display_data"
        },
        {
          "name": "stderr",
          "output_type": "stream",
          "text": [
            "\u001b[34m\u001b[1mwandb\u001b[0m:   1 of 1 files downloaded.  \n"
          ]
        },
        {
          "data": {
            "text/html": [],
            "text/plain": [
              "<IPython.core.display.HTML object>"
            ]
          },
          "metadata": {},
          "output_type": "display_data"
        },
        {
          "data": {
            "text/html": [
              "<br>    <style><br>        .wandb-row {<br>            display: flex;<br>            flex-direction: row;<br>            flex-wrap: wrap;<br>            justify-content: flex-start;<br>            width: 100%;<br>        }<br>        .wandb-col {<br>            display: flex;<br>            flex-direction: column;<br>            flex-basis: 100%;<br>            flex: 1;<br>            padding: 10px;<br>        }<br>    </style><br><div class=\"wandb-row\"><div class=\"wandb-col\"><h3>Run history:</h3><br/><table class=\"wandb\"><tr><td>accuracy</td><td>▁</td></tr></table><br/></div><div class=\"wandb-col\"><h3>Run summary:</h3><br/><table class=\"wandb\"><tr><td>accuracy</td><td>0.77095</td></tr></table><br/></div></div>"
            ],
            "text/plain": [
              "<IPython.core.display.HTML object>"
            ]
          },
          "metadata": {},
          "output_type": "display_data"
        },
        {
          "data": {
            "text/html": [
              " View run <strong style=\"color:#cdcd00\">wild-eon-6</strong> at: <a href='https://wandb.ai/ayenyeinsan2904-chiang-mai-university/Artifacts%20Registry/runs/z87zdyuo' target=\"_blank\">https://wandb.ai/ayenyeinsan2904-chiang-mai-university/Artifacts%20Registry/runs/z87zdyuo</a><br> View project at: <a href='https://wandb.ai/ayenyeinsan2904-chiang-mai-university/Artifacts%20Registry' target=\"_blank\">https://wandb.ai/ayenyeinsan2904-chiang-mai-university/Artifacts%20Registry</a><br>Synced 5 W&B file(s), 0 media file(s), 2 artifact file(s) and 0 other file(s)"
            ],
            "text/plain": [
              "<IPython.core.display.HTML object>"
            ]
          },
          "metadata": {},
          "output_type": "display_data"
        },
        {
          "data": {
            "text/html": [
              "Find logs at: <code>./wandb/run-20250525_190651-z87zdyuo/logs</code>"
            ],
            "text/plain": [
              "<IPython.core.display.HTML object>"
            ]
          },
          "metadata": {},
          "output_type": "display_data"
        }
      ],
      "source": [
        "run = wandb.init(project=\"Artifacts Registry\", job_type=\"training\")\n",
        "\n",
        "# Load artifact dataset\n",
        "artifact = run.use_artifact(artifact_or_name=\n",
        "                  f\"ayenyeinsan2904-chiang-mai-university/Artifacts Registry/clean_titanic:latest\")\n",
        "path = artifact.download()\n",
        "df = pd.read_csv(f\"{path}/clean_titanic.csv\")\n",
        "\n",
        "# Get feature and labels\n",
        "X, y = df.drop('Survived', axis=1), df['Survived']\n",
        "X_train, X_test, y_train, y_test = train_test_split(X, y, test_size=0.2,\n",
        "                                                    random_state=42)\n",
        "\n",
        "# Create a model and save it\n",
        "clf = RandomForestClassifier(n_estimators=1, max_depth=5)\n",
        "clf.fit(X_train, y_train)\n",
        "wandb.log({\"accuracy\": clf.score(X_test, y_test)})\n",
        "\n",
        "# Create Artifact object\n",
        "joblib.dump(clf, 'random_forest_model.pkl')\n",
        "model_artifact = wandb.Artifact(name='random_forest_model', type='model')\n",
        "model_artifact.add_file('random_forest_model.pkl')\n",
        "wandb.log_artifact(model_artifact)\n",
        "\n",
        "wandb.finish()"
      ]
    },
    {
      "cell_type": "markdown",
      "metadata": {
        "id": "VYFLyR9i2WQt"
      },
      "source": [
        "## Create a table"
      ]
    },
    {
      "cell_type": "code",
      "execution_count": 19,
      "metadata": {
        "colab": {
          "base_uri": "https://localhost:8080/",
          "height": 526
        },
        "collapsed": true,
        "id": "llmUH3Cb-2VV",
        "outputId": "ffbb70e1-d4cb-4339-babc-0c05c9c9e8a9"
      },
      "outputs": [
        {
          "data": {
            "text/html": [
              "Finishing previous runs because reinit is set to 'default'."
            ],
            "text/plain": [
              "<IPython.core.display.HTML object>"
            ]
          },
          "metadata": {},
          "output_type": "display_data"
        },
        {
          "data": {
            "text/html": [],
            "text/plain": [
              "<IPython.core.display.HTML object>"
            ]
          },
          "metadata": {},
          "output_type": "display_data"
        },
        {
          "data": {
            "text/html": [
              " View run <strong style=\"color:#cdcd00\">apricot-blaze-2</strong> at: <a href='https://wandb.ai/ayenyeinsan2904-chiang-mai-university/Table/runs/p0mqag2u' target=\"_blank\">https://wandb.ai/ayenyeinsan2904-chiang-mai-university/Table/runs/p0mqag2u</a><br> View project at: <a href='https://wandb.ai/ayenyeinsan2904-chiang-mai-university/Table' target=\"_blank\">https://wandb.ai/ayenyeinsan2904-chiang-mai-university/Table</a><br>Synced 5 W&B file(s), 0 media file(s), 0 artifact file(s) and 0 other file(s)"
            ],
            "text/plain": [
              "<IPython.core.display.HTML object>"
            ]
          },
          "metadata": {},
          "output_type": "display_data"
        },
        {
          "data": {
            "text/html": [
              "Find logs at: <code>./wandb/run-20250525_191046-p0mqag2u/logs</code>"
            ],
            "text/plain": [
              "<IPython.core.display.HTML object>"
            ]
          },
          "metadata": {},
          "output_type": "display_data"
        },
        {
          "data": {
            "text/html": [
              "Tracking run with wandb version 0.19.11"
            ],
            "text/plain": [
              "<IPython.core.display.HTML object>"
            ]
          },
          "metadata": {},
          "output_type": "display_data"
        },
        {
          "data": {
            "text/html": [
              "Run data is saved locally in <code>/content/wandb/run-20250525_191104-r9qrg3yb</code>"
            ],
            "text/plain": [
              "<IPython.core.display.HTML object>"
            ]
          },
          "metadata": {},
          "output_type": "display_data"
        },
        {
          "data": {
            "text/html": [
              "Syncing run <strong><a href='https://wandb.ai/ayenyeinsan2904-chiang-mai-university/Table/runs/r9qrg3yb' target=\"_blank\">ancient-sea-3</a></strong> to <a href='https://wandb.ai/ayenyeinsan2904-chiang-mai-university/Table' target=\"_blank\">Weights & Biases</a> (<a href='https://wandb.me/developer-guide' target=\"_blank\">docs</a>)<br>"
            ],
            "text/plain": [
              "<IPython.core.display.HTML object>"
            ]
          },
          "metadata": {},
          "output_type": "display_data"
        },
        {
          "data": {
            "text/html": [
              " View project at <a href='https://wandb.ai/ayenyeinsan2904-chiang-mai-university/Table' target=\"_blank\">https://wandb.ai/ayenyeinsan2904-chiang-mai-university/Table</a>"
            ],
            "text/plain": [
              "<IPython.core.display.HTML object>"
            ]
          },
          "metadata": {},
          "output_type": "display_data"
        },
        {
          "data": {
            "text/html": [
              " View run at <a href='https://wandb.ai/ayenyeinsan2904-chiang-mai-university/Table/runs/r9qrg3yb' target=\"_blank\">https://wandb.ai/ayenyeinsan2904-chiang-mai-university/Table/runs/r9qrg3yb</a>"
            ],
            "text/plain": [
              "<IPython.core.display.HTML object>"
            ]
          },
          "metadata": {},
          "output_type": "display_data"
        },
        {
          "name": "stderr",
          "output_type": "stream",
          "text": [
            "\u001b[34m\u001b[1mwandb\u001b[0m:   1 of 1 files downloaded.  \n",
            "\u001b[34m\u001b[1mwandb\u001b[0m:   1 of 1 files downloaded.  \n"
          ]
        },
        {
          "data": {
            "text/html": [],
            "text/plain": [
              "<IPython.core.display.HTML object>"
            ]
          },
          "metadata": {},
          "output_type": "display_data"
        },
        {
          "data": {
            "text/html": [
              "<br>    <style><br>        .wandb-row {<br>            display: flex;<br>            flex-direction: row;<br>            flex-wrap: wrap;<br>            justify-content: flex-start;<br>            width: 100%;<br>        }<br>        .wandb-col {<br>            display: flex;<br>            flex-direction: column;<br>            flex-basis: 100%;<br>            flex: 1;<br>            padding: 10px;<br>        }<br>    </style><br><div class=\"wandb-row\"><div class=\"wandb-col\"><h3>Run history:</h3><br/><table class=\"wandb\"><tr><td>accuracy</td><td>▁</td></tr></table><br/></div><div class=\"wandb-col\"><h3>Run summary:</h3><br/><table class=\"wandb\"><tr><td>accuracy</td><td>0.77095</td></tr></table><br/></div></div>"
            ],
            "text/plain": [
              "<IPython.core.display.HTML object>"
            ]
          },
          "metadata": {},
          "output_type": "display_data"
        },
        {
          "data": {
            "text/html": [
              " View run <strong style=\"color:#cdcd00\">ancient-sea-3</strong> at: <a href='https://wandb.ai/ayenyeinsan2904-chiang-mai-university/Table/runs/r9qrg3yb' target=\"_blank\">https://wandb.ai/ayenyeinsan2904-chiang-mai-university/Table/runs/r9qrg3yb</a><br> View project at: <a href='https://wandb.ai/ayenyeinsan2904-chiang-mai-university/Table' target=\"_blank\">https://wandb.ai/ayenyeinsan2904-chiang-mai-university/Table</a><br>Synced 5 W&B file(s), 1 media file(s), 2 artifact file(s) and 0 other file(s)"
            ],
            "text/plain": [
              "<IPython.core.display.HTML object>"
            ]
          },
          "metadata": {},
          "output_type": "display_data"
        },
        {
          "data": {
            "text/html": [
              "Find logs at: <code>./wandb/run-20250525_191104-r9qrg3yb/logs</code>"
            ],
            "text/plain": [
              "<IPython.core.display.HTML object>"
            ]
          },
          "metadata": {},
          "output_type": "display_data"
        }
      ],
      "source": [
        "run = wandb.init(project='Table')\n",
        "\n",
        "# Load artifact dataset\n",
        "artifact = run.use_artifact(\n",
        "    artifact_or_name=f\"ayenyeinsan2904-chiang-mai-university/Artifacts Registry/clean_titanic:latest\"\n",
        ")\n",
        "path = artifact.download()\n",
        "df = pd.read_csv(f\"{path}/clean_titanic.csv\")\n",
        "\n",
        "# Get feature and labels\n",
        "X, y = df.drop('Survived', axis=1), df['Survived']\n",
        "X_train, X_test, y_train, y_test = train_test_split(X, y, test_size=0.2,\n",
        "                                                    random_state=42)\n",
        "\n",
        "# Create a model and save it\n",
        "model_artifact = run.use_artifact(\n",
        "    'ayenyeinsan2904-chiang-mai-university/Artifacts Registry/random_forest_model:v0',\n",
        "    type='model'\n",
        ")\n",
        "model_artifact_dir = model_artifact.download()\n",
        "clf = joblib.load(f\"{model_artifact_dir}/random_forest_model.pkl\")\n",
        "wandb.log({\"accuracy\": clf.score(X_test, y_test)})\n",
        "\n",
        "# Create Table\n",
        "table = wandb.Table(columns=['y_pred', 'y_true', 'prob_survive',\n",
        "                             'Pclass', 'Sex', 'Age',\n",
        "                             'SibSp', 'Parch', 'Fare',\n",
        "                             'Embarked'])\n",
        "\n",
        "# Add prediction data to the table\n",
        "for i in range(len(X_test)):\n",
        "  # Get Values\n",
        "  row = X_test.iloc[[i]]\n",
        "  y_pred = clf.predict(row)[0]\n",
        "  y_prob_1 = clf.predict_proba(row)[0][1]\n",
        "  y_true = y_test.iloc[i]\n",
        "\n",
        "  # Add values to table\n",
        "  table.add_data(\n",
        "      y_pred, y_true, y_prob_1,\n",
        "      row['Pclass'].iloc[0], row['Sex'].iloc[0], row['Age'].iloc[0],\n",
        "      row['SibSp'].iloc[0], row['Parch'].iloc[0], row['Fare'].iloc[0],\n",
        "      row['Embarked'].iloc[0])\n",
        "\n",
        "run.log({\"test_predictions\": table})\n",
        "\n",
        "wandb.finish()"
      ]
    },
    {
      "cell_type": "markdown",
      "metadata": {
        "id": "Qj9pMh573L3D"
      },
      "source": [
        "# Sweep"
      ]
    },
    {
      "cell_type": "code",
      "execution_count": 20,
      "metadata": {
        "colab": {
          "base_uri": "https://localhost:8080/",
          "height": 1000
        },
        "id": "iDmqDsvbDljz",
        "outputId": "06f8eba8-3816-483b-d174-bce6156d6aed"
      },
      "outputs": [
        {
          "name": "stdout",
          "output_type": "stream",
          "text": [
            "Create sweep with ID: nmaceo43\n",
            "Sweep URL: https://wandb.ai/ayenyeinsan2904-chiang-mai-university/Sweep/sweeps/nmaceo43\n"
          ]
        },
        {
          "name": "stderr",
          "output_type": "stream",
          "text": [
            "\u001b[34m\u001b[1mwandb\u001b[0m: Agent Starting Run: 8avtp6z8 with config:\n",
            "\u001b[34m\u001b[1mwandb\u001b[0m: \tbatch_size: 128\n",
            "\u001b[34m\u001b[1mwandb\u001b[0m: \tlearning_rate: 0.06957487949218227\n",
            "\u001b[34m\u001b[1mwandb\u001b[0m: \tnum_epochs: 5\n",
            "\u001b[34m\u001b[1mwandb\u001b[0m: \toptimizer: sgd\n"
          ]
        },
        {
          "data": {
            "text/html": [
              "Tracking run with wandb version 0.19.11"
            ],
            "text/plain": [
              "<IPython.core.display.HTML object>"
            ]
          },
          "metadata": {},
          "output_type": "display_data"
        },
        {
          "data": {
            "text/html": [
              "Run data is saved locally in <code>/content/wandb/run-20250525_191558-8avtp6z8</code>"
            ],
            "text/plain": [
              "<IPython.core.display.HTML object>"
            ]
          },
          "metadata": {},
          "output_type": "display_data"
        },
        {
          "data": {
            "text/html": [
              "Syncing run <strong><a href='https://wandb.ai/ayenyeinsan2904-chiang-mai-university/Sweep/runs/8avtp6z8' target=\"_blank\">atomic-sweep-1</a></strong> to <a href='https://wandb.ai/ayenyeinsan2904-chiang-mai-university/Sweep' target=\"_blank\">Weights & Biases</a> (<a href='https://wandb.me/developer-guide' target=\"_blank\">docs</a>)<br>Sweep page: <a href='https://wandb.ai/ayenyeinsan2904-chiang-mai-university/Sweep/sweeps/nmaceo43' target=\"_blank\">https://wandb.ai/ayenyeinsan2904-chiang-mai-university/Sweep/sweeps/nmaceo43</a>"
            ],
            "text/plain": [
              "<IPython.core.display.HTML object>"
            ]
          },
          "metadata": {},
          "output_type": "display_data"
        },
        {
          "data": {
            "text/html": [
              " View project at <a href='https://wandb.ai/ayenyeinsan2904-chiang-mai-university/Sweep' target=\"_blank\">https://wandb.ai/ayenyeinsan2904-chiang-mai-university/Sweep</a>"
            ],
            "text/plain": [
              "<IPython.core.display.HTML object>"
            ]
          },
          "metadata": {},
          "output_type": "display_data"
        },
        {
          "data": {
            "text/html": [
              " View sweep at <a href='https://wandb.ai/ayenyeinsan2904-chiang-mai-university/Sweep/sweeps/nmaceo43' target=\"_blank\">https://wandb.ai/ayenyeinsan2904-chiang-mai-university/Sweep/sweeps/nmaceo43</a>"
            ],
            "text/plain": [
              "<IPython.core.display.HTML object>"
            ]
          },
          "metadata": {},
          "output_type": "display_data"
        },
        {
          "data": {
            "text/html": [
              " View run at <a href='https://wandb.ai/ayenyeinsan2904-chiang-mai-university/Sweep/runs/8avtp6z8' target=\"_blank\">https://wandb.ai/ayenyeinsan2904-chiang-mai-university/Sweep/runs/8avtp6z8</a>"
            ],
            "text/plain": [
              "<IPython.core.display.HTML object>"
            ]
          },
          "metadata": {},
          "output_type": "display_data"
        },
        {
          "name": "stderr",
          "output_type": "stream",
          "text": [
            "\u001b[34m\u001b[1mwandb\u001b[0m:   1 of 1 files downloaded.  \n"
          ]
        },
        {
          "data": {
            "text/html": [],
            "text/plain": [
              "<IPython.core.display.HTML object>"
            ]
          },
          "metadata": {},
          "output_type": "display_data"
        },
        {
          "data": {
            "text/html": [
              "<br>    <style><br>        .wandb-row {<br>            display: flex;<br>            flex-direction: row;<br>            flex-wrap: wrap;<br>            justify-content: flex-start;<br>            width: 100%;<br>        }<br>        .wandb-col {<br>            display: flex;<br>            flex-direction: column;<br>            flex-basis: 100%;<br>            flex: 1;<br>            padding: 10px;<br>        }<br>    </style><br><div class=\"wandb-row\"><div class=\"wandb-col\"><h3>Run history:</h3><br/><table class=\"wandb\"><tr><td>test_loss</td><td>█▂▃▁▃</td></tr><tr><td>train_loss</td><td>█▁▁▂▁</td></tr></table><br/></div><div class=\"wandb-col\"><h3>Run summary:</h3><br/><table class=\"wandb\"><tr><td>test_loss</td><td>0.57386</td></tr><tr><td>train_loss</td><td>0.61797</td></tr></table><br/></div></div>"
            ],
            "text/plain": [
              "<IPython.core.display.HTML object>"
            ]
          },
          "metadata": {},
          "output_type": "display_data"
        },
        {
          "data": {
            "text/html": [
              " View run <strong style=\"color:#cdcd00\">atomic-sweep-1</strong> at: <a href='https://wandb.ai/ayenyeinsan2904-chiang-mai-university/Sweep/runs/8avtp6z8' target=\"_blank\">https://wandb.ai/ayenyeinsan2904-chiang-mai-university/Sweep/runs/8avtp6z8</a><br> View project at: <a href='https://wandb.ai/ayenyeinsan2904-chiang-mai-university/Sweep' target=\"_blank\">https://wandb.ai/ayenyeinsan2904-chiang-mai-university/Sweep</a><br>Synced 5 W&B file(s), 0 media file(s), 0 artifact file(s) and 0 other file(s)"
            ],
            "text/plain": [
              "<IPython.core.display.HTML object>"
            ]
          },
          "metadata": {},
          "output_type": "display_data"
        },
        {
          "data": {
            "text/html": [
              "Find logs at: <code>./wandb/run-20250525_191558-8avtp6z8/logs</code>"
            ],
            "text/plain": [
              "<IPython.core.display.HTML object>"
            ]
          },
          "metadata": {},
          "output_type": "display_data"
        },
        {
          "name": "stderr",
          "output_type": "stream",
          "text": [
            "\u001b[34m\u001b[1mwandb\u001b[0m: Agent Starting Run: n4hqtqd5 with config:\n",
            "\u001b[34m\u001b[1mwandb\u001b[0m: \tbatch_size: 64\n",
            "\u001b[34m\u001b[1mwandb\u001b[0m: \tlearning_rate: 0.08587487420462472\n",
            "\u001b[34m\u001b[1mwandb\u001b[0m: \tnum_epochs: 15\n",
            "\u001b[34m\u001b[1mwandb\u001b[0m: \toptimizer: adam\n"
          ]
        },
        {
          "data": {
            "text/html": [
              "Tracking run with wandb version 0.19.11"
            ],
            "text/plain": [
              "<IPython.core.display.HTML object>"
            ]
          },
          "metadata": {},
          "output_type": "display_data"
        },
        {
          "data": {
            "text/html": [
              "Run data is saved locally in <code>/content/wandb/run-20250525_191613-n4hqtqd5</code>"
            ],
            "text/plain": [
              "<IPython.core.display.HTML object>"
            ]
          },
          "metadata": {},
          "output_type": "display_data"
        },
        {
          "data": {
            "text/html": [
              "Syncing run <strong><a href='https://wandb.ai/ayenyeinsan2904-chiang-mai-university/Sweep/runs/n4hqtqd5' target=\"_blank\">dulcet-sweep-2</a></strong> to <a href='https://wandb.ai/ayenyeinsan2904-chiang-mai-university/Sweep' target=\"_blank\">Weights & Biases</a> (<a href='https://wandb.me/developer-guide' target=\"_blank\">docs</a>)<br>Sweep page: <a href='https://wandb.ai/ayenyeinsan2904-chiang-mai-university/Sweep/sweeps/nmaceo43' target=\"_blank\">https://wandb.ai/ayenyeinsan2904-chiang-mai-university/Sweep/sweeps/nmaceo43</a>"
            ],
            "text/plain": [
              "<IPython.core.display.HTML object>"
            ]
          },
          "metadata": {},
          "output_type": "display_data"
        },
        {
          "data": {
            "text/html": [
              " View project at <a href='https://wandb.ai/ayenyeinsan2904-chiang-mai-university/Sweep' target=\"_blank\">https://wandb.ai/ayenyeinsan2904-chiang-mai-university/Sweep</a>"
            ],
            "text/plain": [
              "<IPython.core.display.HTML object>"
            ]
          },
          "metadata": {},
          "output_type": "display_data"
        },
        {
          "data": {
            "text/html": [
              " View sweep at <a href='https://wandb.ai/ayenyeinsan2904-chiang-mai-university/Sweep/sweeps/nmaceo43' target=\"_blank\">https://wandb.ai/ayenyeinsan2904-chiang-mai-university/Sweep/sweeps/nmaceo43</a>"
            ],
            "text/plain": [
              "<IPython.core.display.HTML object>"
            ]
          },
          "metadata": {},
          "output_type": "display_data"
        },
        {
          "data": {
            "text/html": [
              " View run at <a href='https://wandb.ai/ayenyeinsan2904-chiang-mai-university/Sweep/runs/n4hqtqd5' target=\"_blank\">https://wandb.ai/ayenyeinsan2904-chiang-mai-university/Sweep/runs/n4hqtqd5</a>"
            ],
            "text/plain": [
              "<IPython.core.display.HTML object>"
            ]
          },
          "metadata": {},
          "output_type": "display_data"
        },
        {
          "name": "stderr",
          "output_type": "stream",
          "text": [
            "\u001b[34m\u001b[1mwandb\u001b[0m:   1 of 1 files downloaded.  \n"
          ]
        },
        {
          "data": {
            "text/html": [],
            "text/plain": [
              "<IPython.core.display.HTML object>"
            ]
          },
          "metadata": {},
          "output_type": "display_data"
        },
        {
          "data": {
            "text/html": [
              "<br>    <style><br>        .wandb-row {<br>            display: flex;<br>            flex-direction: row;<br>            flex-wrap: wrap;<br>            justify-content: flex-start;<br>            width: 100%;<br>        }<br>        .wandb-col {<br>            display: flex;<br>            flex-direction: column;<br>            flex-basis: 100%;<br>            flex: 1;<br>            padding: 10px;<br>        }<br>    </style><br><div class=\"wandb-row\"><div class=\"wandb-col\"><h3>Run history:</h3><br/><table class=\"wandb\"><tr><td>test_loss</td><td>█▇▆▅▄▇▅▅▂▂▁▄▁▁▄</td></tr><tr><td>train_loss</td><td>█▁▁▁▁▁▁▁▁▁▁▁▁▁▁</td></tr></table><br/></div><div class=\"wandb-col\"><h3>Run summary:</h3><br/><table class=\"wandb\"><tr><td>test_loss</td><td>0.52763</td></tr><tr><td>train_loss</td><td>0.50101</td></tr></table><br/></div></div>"
            ],
            "text/plain": [
              "<IPython.core.display.HTML object>"
            ]
          },
          "metadata": {},
          "output_type": "display_data"
        },
        {
          "data": {
            "text/html": [
              " View run <strong style=\"color:#cdcd00\">dulcet-sweep-2</strong> at: <a href='https://wandb.ai/ayenyeinsan2904-chiang-mai-university/Sweep/runs/n4hqtqd5' target=\"_blank\">https://wandb.ai/ayenyeinsan2904-chiang-mai-university/Sweep/runs/n4hqtqd5</a><br> View project at: <a href='https://wandb.ai/ayenyeinsan2904-chiang-mai-university/Sweep' target=\"_blank\">https://wandb.ai/ayenyeinsan2904-chiang-mai-university/Sweep</a><br>Synced 5 W&B file(s), 0 media file(s), 0 artifact file(s) and 0 other file(s)"
            ],
            "text/plain": [
              "<IPython.core.display.HTML object>"
            ]
          },
          "metadata": {},
          "output_type": "display_data"
        },
        {
          "data": {
            "text/html": [
              "Find logs at: <code>./wandb/run-20250525_191613-n4hqtqd5/logs</code>"
            ],
            "text/plain": [
              "<IPython.core.display.HTML object>"
            ]
          },
          "metadata": {},
          "output_type": "display_data"
        },
        {
          "name": "stderr",
          "output_type": "stream",
          "text": [
            "\u001b[34m\u001b[1mwandb\u001b[0m: Agent Starting Run: mndjvpdc with config:\n",
            "\u001b[34m\u001b[1mwandb\u001b[0m: \tbatch_size: 32\n",
            "\u001b[34m\u001b[1mwandb\u001b[0m: \tlearning_rate: 0.08022184787138169\n",
            "\u001b[34m\u001b[1mwandb\u001b[0m: \tnum_epochs: 10\n",
            "\u001b[34m\u001b[1mwandb\u001b[0m: \toptimizer: adam\n"
          ]
        },
        {
          "data": {
            "text/html": [
              "Tracking run with wandb version 0.19.11"
            ],
            "text/plain": [
              "<IPython.core.display.HTML object>"
            ]
          },
          "metadata": {},
          "output_type": "display_data"
        },
        {
          "data": {
            "text/html": [
              "Run data is saved locally in <code>/content/wandb/run-20250525_191618-mndjvpdc</code>"
            ],
            "text/plain": [
              "<IPython.core.display.HTML object>"
            ]
          },
          "metadata": {},
          "output_type": "display_data"
        },
        {
          "data": {
            "text/html": [
              "Syncing run <strong><a href='https://wandb.ai/ayenyeinsan2904-chiang-mai-university/Sweep/runs/mndjvpdc' target=\"_blank\">chocolate-sweep-3</a></strong> to <a href='https://wandb.ai/ayenyeinsan2904-chiang-mai-university/Sweep' target=\"_blank\">Weights & Biases</a> (<a href='https://wandb.me/developer-guide' target=\"_blank\">docs</a>)<br>Sweep page: <a href='https://wandb.ai/ayenyeinsan2904-chiang-mai-university/Sweep/sweeps/nmaceo43' target=\"_blank\">https://wandb.ai/ayenyeinsan2904-chiang-mai-university/Sweep/sweeps/nmaceo43</a>"
            ],
            "text/plain": [
              "<IPython.core.display.HTML object>"
            ]
          },
          "metadata": {},
          "output_type": "display_data"
        },
        {
          "data": {
            "text/html": [
              " View project at <a href='https://wandb.ai/ayenyeinsan2904-chiang-mai-university/Sweep' target=\"_blank\">https://wandb.ai/ayenyeinsan2904-chiang-mai-university/Sweep</a>"
            ],
            "text/plain": [
              "<IPython.core.display.HTML object>"
            ]
          },
          "metadata": {},
          "output_type": "display_data"
        },
        {
          "data": {
            "text/html": [
              " View sweep at <a href='https://wandb.ai/ayenyeinsan2904-chiang-mai-university/Sweep/sweeps/nmaceo43' target=\"_blank\">https://wandb.ai/ayenyeinsan2904-chiang-mai-university/Sweep/sweeps/nmaceo43</a>"
            ],
            "text/plain": [
              "<IPython.core.display.HTML object>"
            ]
          },
          "metadata": {},
          "output_type": "display_data"
        },
        {
          "data": {
            "text/html": [
              " View run at <a href='https://wandb.ai/ayenyeinsan2904-chiang-mai-university/Sweep/runs/mndjvpdc' target=\"_blank\">https://wandb.ai/ayenyeinsan2904-chiang-mai-university/Sweep/runs/mndjvpdc</a>"
            ],
            "text/plain": [
              "<IPython.core.display.HTML object>"
            ]
          },
          "metadata": {},
          "output_type": "display_data"
        },
        {
          "name": "stderr",
          "output_type": "stream",
          "text": [
            "\u001b[34m\u001b[1mwandb\u001b[0m:   1 of 1 files downloaded.  \n"
          ]
        },
        {
          "data": {
            "text/html": [],
            "text/plain": [
              "<IPython.core.display.HTML object>"
            ]
          },
          "metadata": {},
          "output_type": "display_data"
        },
        {
          "data": {
            "text/html": [
              "<br>    <style><br>        .wandb-row {<br>            display: flex;<br>            flex-direction: row;<br>            flex-wrap: wrap;<br>            justify-content: flex-start;<br>            width: 100%;<br>        }<br>        .wandb-col {<br>            display: flex;<br>            flex-direction: column;<br>            flex-basis: 100%;<br>            flex: 1;<br>            padding: 10px;<br>        }<br>    </style><br><div class=\"wandb-row\"><div class=\"wandb-col\"><h3>Run history:</h3><br/><table class=\"wandb\"><tr><td>test_loss</td><td>█▅▅▄▂▄▃▁▃▁</td></tr><tr><td>train_loss</td><td>█▃▂▂▂▁▁▁▁▁</td></tr></table><br/></div><div class=\"wandb-col\"><h3>Run summary:</h3><br/><table class=\"wandb\"><tr><td>test_loss</td><td>0.45791</td></tr><tr><td>train_loss</td><td>0.49231</td></tr></table><br/></div></div>"
            ],
            "text/plain": [
              "<IPython.core.display.HTML object>"
            ]
          },
          "metadata": {},
          "output_type": "display_data"
        },
        {
          "data": {
            "text/html": [
              " View run <strong style=\"color:#cdcd00\">chocolate-sweep-3</strong> at: <a href='https://wandb.ai/ayenyeinsan2904-chiang-mai-university/Sweep/runs/mndjvpdc' target=\"_blank\">https://wandb.ai/ayenyeinsan2904-chiang-mai-university/Sweep/runs/mndjvpdc</a><br> View project at: <a href='https://wandb.ai/ayenyeinsan2904-chiang-mai-university/Sweep' target=\"_blank\">https://wandb.ai/ayenyeinsan2904-chiang-mai-university/Sweep</a><br>Synced 5 W&B file(s), 0 media file(s), 0 artifact file(s) and 0 other file(s)"
            ],
            "text/plain": [
              "<IPython.core.display.HTML object>"
            ]
          },
          "metadata": {},
          "output_type": "display_data"
        },
        {
          "data": {
            "text/html": [
              "Find logs at: <code>./wandb/run-20250525_191618-mndjvpdc/logs</code>"
            ],
            "text/plain": [
              "<IPython.core.display.HTML object>"
            ]
          },
          "metadata": {},
          "output_type": "display_data"
        },
        {
          "name": "stderr",
          "output_type": "stream",
          "text": [
            "\u001b[34m\u001b[1mwandb\u001b[0m: Agent Starting Run: 2kb26yx4 with config:\n",
            "\u001b[34m\u001b[1mwandb\u001b[0m: \tbatch_size: 64\n",
            "\u001b[34m\u001b[1mwandb\u001b[0m: \tlearning_rate: 0.02034849072147272\n",
            "\u001b[34m\u001b[1mwandb\u001b[0m: \tnum_epochs: 5\n",
            "\u001b[34m\u001b[1mwandb\u001b[0m: \toptimizer: adam\n"
          ]
        },
        {
          "data": {
            "text/html": [
              "Tracking run with wandb version 0.19.11"
            ],
            "text/plain": [
              "<IPython.core.display.HTML object>"
            ]
          },
          "metadata": {},
          "output_type": "display_data"
        },
        {
          "data": {
            "text/html": [
              "Run data is saved locally in <code>/content/wandb/run-20250525_191623-2kb26yx4</code>"
            ],
            "text/plain": [
              "<IPython.core.display.HTML object>"
            ]
          },
          "metadata": {},
          "output_type": "display_data"
        },
        {
          "data": {
            "text/html": [
              "Syncing run <strong><a href='https://wandb.ai/ayenyeinsan2904-chiang-mai-university/Sweep/runs/2kb26yx4' target=\"_blank\">youthful-sweep-4</a></strong> to <a href='https://wandb.ai/ayenyeinsan2904-chiang-mai-university/Sweep' target=\"_blank\">Weights & Biases</a> (<a href='https://wandb.me/developer-guide' target=\"_blank\">docs</a>)<br>Sweep page: <a href='https://wandb.ai/ayenyeinsan2904-chiang-mai-university/Sweep/sweeps/nmaceo43' target=\"_blank\">https://wandb.ai/ayenyeinsan2904-chiang-mai-university/Sweep/sweeps/nmaceo43</a>"
            ],
            "text/plain": [
              "<IPython.core.display.HTML object>"
            ]
          },
          "metadata": {},
          "output_type": "display_data"
        },
        {
          "data": {
            "text/html": [
              " View project at <a href='https://wandb.ai/ayenyeinsan2904-chiang-mai-university/Sweep' target=\"_blank\">https://wandb.ai/ayenyeinsan2904-chiang-mai-university/Sweep</a>"
            ],
            "text/plain": [
              "<IPython.core.display.HTML object>"
            ]
          },
          "metadata": {},
          "output_type": "display_data"
        },
        {
          "data": {
            "text/html": [
              " View sweep at <a href='https://wandb.ai/ayenyeinsan2904-chiang-mai-university/Sweep/sweeps/nmaceo43' target=\"_blank\">https://wandb.ai/ayenyeinsan2904-chiang-mai-university/Sweep/sweeps/nmaceo43</a>"
            ],
            "text/plain": [
              "<IPython.core.display.HTML object>"
            ]
          },
          "metadata": {},
          "output_type": "display_data"
        },
        {
          "data": {
            "text/html": [
              " View run at <a href='https://wandb.ai/ayenyeinsan2904-chiang-mai-university/Sweep/runs/2kb26yx4' target=\"_blank\">https://wandb.ai/ayenyeinsan2904-chiang-mai-university/Sweep/runs/2kb26yx4</a>"
            ],
            "text/plain": [
              "<IPython.core.display.HTML object>"
            ]
          },
          "metadata": {},
          "output_type": "display_data"
        },
        {
          "name": "stderr",
          "output_type": "stream",
          "text": [
            "\u001b[34m\u001b[1mwandb\u001b[0m:   1 of 1 files downloaded.  \n"
          ]
        },
        {
          "data": {
            "text/html": [],
            "text/plain": [
              "<IPython.core.display.HTML object>"
            ]
          },
          "metadata": {},
          "output_type": "display_data"
        },
        {
          "data": {
            "text/html": [
              "<br>    <style><br>        .wandb-row {<br>            display: flex;<br>            flex-direction: row;<br>            flex-wrap: wrap;<br>            justify-content: flex-start;<br>            width: 100%;<br>        }<br>        .wandb-col {<br>            display: flex;<br>            flex-direction: column;<br>            flex-basis: 100%;<br>            flex: 1;<br>            padding: 10px;<br>        }<br>    </style><br><div class=\"wandb-row\"><div class=\"wandb-col\"><h3>Run history:</h3><br/><table class=\"wandb\"><tr><td>test_loss</td><td>▇█▅▅▁</td></tr><tr><td>train_loss</td><td>█▄▂▂▁</td></tr></table><br/></div><div class=\"wandb-col\"><h3>Run summary:</h3><br/><table class=\"wandb\"><tr><td>test_loss</td><td>0.52558</td></tr><tr><td>train_loss</td><td>0.58031</td></tr></table><br/></div></div>"
            ],
            "text/plain": [
              "<IPython.core.display.HTML object>"
            ]
          },
          "metadata": {},
          "output_type": "display_data"
        },
        {
          "data": {
            "text/html": [
              " View run <strong style=\"color:#cdcd00\">youthful-sweep-4</strong> at: <a href='https://wandb.ai/ayenyeinsan2904-chiang-mai-university/Sweep/runs/2kb26yx4' target=\"_blank\">https://wandb.ai/ayenyeinsan2904-chiang-mai-university/Sweep/runs/2kb26yx4</a><br> View project at: <a href='https://wandb.ai/ayenyeinsan2904-chiang-mai-university/Sweep' target=\"_blank\">https://wandb.ai/ayenyeinsan2904-chiang-mai-university/Sweep</a><br>Synced 5 W&B file(s), 0 media file(s), 0 artifact file(s) and 0 other file(s)"
            ],
            "text/plain": [
              "<IPython.core.display.HTML object>"
            ]
          },
          "metadata": {},
          "output_type": "display_data"
        },
        {
          "data": {
            "text/html": [
              "Find logs at: <code>./wandb/run-20250525_191623-2kb26yx4/logs</code>"
            ],
            "text/plain": [
              "<IPython.core.display.HTML object>"
            ]
          },
          "metadata": {},
          "output_type": "display_data"
        },
        {
          "name": "stderr",
          "output_type": "stream",
          "text": [
            "\u001b[34m\u001b[1mwandb\u001b[0m: Agent Starting Run: m3jtk9n1 with config:\n",
            "\u001b[34m\u001b[1mwandb\u001b[0m: \tbatch_size: 64\n",
            "\u001b[34m\u001b[1mwandb\u001b[0m: \tlearning_rate: 0.048056899716763565\n",
            "\u001b[34m\u001b[1mwandb\u001b[0m: \tnum_epochs: 5\n",
            "\u001b[34m\u001b[1mwandb\u001b[0m: \toptimizer: adam\n"
          ]
        },
        {
          "data": {
            "text/html": [
              "Tracking run with wandb version 0.19.11"
            ],
            "text/plain": [
              "<IPython.core.display.HTML object>"
            ]
          },
          "metadata": {},
          "output_type": "display_data"
        },
        {
          "data": {
            "text/html": [
              "Run data is saved locally in <code>/content/wandb/run-20250525_191628-m3jtk9n1</code>"
            ],
            "text/plain": [
              "<IPython.core.display.HTML object>"
            ]
          },
          "metadata": {},
          "output_type": "display_data"
        },
        {
          "data": {
            "text/html": [
              "Syncing run <strong><a href='https://wandb.ai/ayenyeinsan2904-chiang-mai-university/Sweep/runs/m3jtk9n1' target=\"_blank\">sweet-sweep-5</a></strong> to <a href='https://wandb.ai/ayenyeinsan2904-chiang-mai-university/Sweep' target=\"_blank\">Weights & Biases</a> (<a href='https://wandb.me/developer-guide' target=\"_blank\">docs</a>)<br>Sweep page: <a href='https://wandb.ai/ayenyeinsan2904-chiang-mai-university/Sweep/sweeps/nmaceo43' target=\"_blank\">https://wandb.ai/ayenyeinsan2904-chiang-mai-university/Sweep/sweeps/nmaceo43</a>"
            ],
            "text/plain": [
              "<IPython.core.display.HTML object>"
            ]
          },
          "metadata": {},
          "output_type": "display_data"
        },
        {
          "data": {
            "text/html": [
              " View project at <a href='https://wandb.ai/ayenyeinsan2904-chiang-mai-university/Sweep' target=\"_blank\">https://wandb.ai/ayenyeinsan2904-chiang-mai-university/Sweep</a>"
            ],
            "text/plain": [
              "<IPython.core.display.HTML object>"
            ]
          },
          "metadata": {},
          "output_type": "display_data"
        },
        {
          "data": {
            "text/html": [
              " View sweep at <a href='https://wandb.ai/ayenyeinsan2904-chiang-mai-university/Sweep/sweeps/nmaceo43' target=\"_blank\">https://wandb.ai/ayenyeinsan2904-chiang-mai-university/Sweep/sweeps/nmaceo43</a>"
            ],
            "text/plain": [
              "<IPython.core.display.HTML object>"
            ]
          },
          "metadata": {},
          "output_type": "display_data"
        },
        {
          "data": {
            "text/html": [
              " View run at <a href='https://wandb.ai/ayenyeinsan2904-chiang-mai-university/Sweep/runs/m3jtk9n1' target=\"_blank\">https://wandb.ai/ayenyeinsan2904-chiang-mai-university/Sweep/runs/m3jtk9n1</a>"
            ],
            "text/plain": [
              "<IPython.core.display.HTML object>"
            ]
          },
          "metadata": {},
          "output_type": "display_data"
        },
        {
          "name": "stderr",
          "output_type": "stream",
          "text": [
            "\u001b[34m\u001b[1mwandb\u001b[0m:   1 of 1 files downloaded.  \n"
          ]
        },
        {
          "data": {
            "text/html": [],
            "text/plain": [
              "<IPython.core.display.HTML object>"
            ]
          },
          "metadata": {},
          "output_type": "display_data"
        },
        {
          "data": {
            "text/html": [
              "<br>    <style><br>        .wandb-row {<br>            display: flex;<br>            flex-direction: row;<br>            flex-wrap: wrap;<br>            justify-content: flex-start;<br>            width: 100%;<br>        }<br>        .wandb-col {<br>            display: flex;<br>            flex-direction: column;<br>            flex-basis: 100%;<br>            flex: 1;<br>            padding: 10px;<br>        }<br>    </style><br><div class=\"wandb-row\"><div class=\"wandb-col\"><h3>Run history:</h3><br/><table class=\"wandb\"><tr><td>test_loss</td><td>█▃▁█▄</td></tr><tr><td>train_loss</td><td>█▂▁▁▂</td></tr></table><br/></div><div class=\"wandb-col\"><h3>Run summary:</h3><br/><table class=\"wandb\"><tr><td>test_loss</td><td>0.56271</td></tr><tr><td>train_loss</td><td>0.61604</td></tr></table><br/></div></div>"
            ],
            "text/plain": [
              "<IPython.core.display.HTML object>"
            ]
          },
          "metadata": {},
          "output_type": "display_data"
        },
        {
          "data": {
            "text/html": [
              " View run <strong style=\"color:#cdcd00\">sweet-sweep-5</strong> at: <a href='https://wandb.ai/ayenyeinsan2904-chiang-mai-university/Sweep/runs/m3jtk9n1' target=\"_blank\">https://wandb.ai/ayenyeinsan2904-chiang-mai-university/Sweep/runs/m3jtk9n1</a><br> View project at: <a href='https://wandb.ai/ayenyeinsan2904-chiang-mai-university/Sweep' target=\"_blank\">https://wandb.ai/ayenyeinsan2904-chiang-mai-university/Sweep</a><br>Synced 5 W&B file(s), 0 media file(s), 0 artifact file(s) and 0 other file(s)"
            ],
            "text/plain": [
              "<IPython.core.display.HTML object>"
            ]
          },
          "metadata": {},
          "output_type": "display_data"
        },
        {
          "data": {
            "text/html": [
              "Find logs at: <code>./wandb/run-20250525_191628-m3jtk9n1/logs</code>"
            ],
            "text/plain": [
              "<IPython.core.display.HTML object>"
            ]
          },
          "metadata": {},
          "output_type": "display_data"
        },
        {
          "name": "stderr",
          "output_type": "stream",
          "text": [
            "\u001b[34m\u001b[1mwandb\u001b[0m: Agent Starting Run: vplrlokg with config:\n",
            "\u001b[34m\u001b[1mwandb\u001b[0m: \tbatch_size: 32\n",
            "\u001b[34m\u001b[1mwandb\u001b[0m: \tlearning_rate: 0.0026680234395123604\n",
            "\u001b[34m\u001b[1mwandb\u001b[0m: \tnum_epochs: 15\n",
            "\u001b[34m\u001b[1mwandb\u001b[0m: \toptimizer: sgd\n"
          ]
        },
        {
          "data": {
            "text/html": [
              "Tracking run with wandb version 0.19.11"
            ],
            "text/plain": [
              "<IPython.core.display.HTML object>"
            ]
          },
          "metadata": {},
          "output_type": "display_data"
        },
        {
          "data": {
            "text/html": [
              "Run data is saved locally in <code>/content/wandb/run-20250525_191634-vplrlokg</code>"
            ],
            "text/plain": [
              "<IPython.core.display.HTML object>"
            ]
          },
          "metadata": {},
          "output_type": "display_data"
        },
        {
          "data": {
            "text/html": [
              "Syncing run <strong><a href='https://wandb.ai/ayenyeinsan2904-chiang-mai-university/Sweep/runs/vplrlokg' target=\"_blank\">worldly-sweep-6</a></strong> to <a href='https://wandb.ai/ayenyeinsan2904-chiang-mai-university/Sweep' target=\"_blank\">Weights & Biases</a> (<a href='https://wandb.me/developer-guide' target=\"_blank\">docs</a>)<br>Sweep page: <a href='https://wandb.ai/ayenyeinsan2904-chiang-mai-university/Sweep/sweeps/nmaceo43' target=\"_blank\">https://wandb.ai/ayenyeinsan2904-chiang-mai-university/Sweep/sweeps/nmaceo43</a>"
            ],
            "text/plain": [
              "<IPython.core.display.HTML object>"
            ]
          },
          "metadata": {},
          "output_type": "display_data"
        },
        {
          "data": {
            "text/html": [
              " View project at <a href='https://wandb.ai/ayenyeinsan2904-chiang-mai-university/Sweep' target=\"_blank\">https://wandb.ai/ayenyeinsan2904-chiang-mai-university/Sweep</a>"
            ],
            "text/plain": [
              "<IPython.core.display.HTML object>"
            ]
          },
          "metadata": {},
          "output_type": "display_data"
        },
        {
          "data": {
            "text/html": [
              " View sweep at <a href='https://wandb.ai/ayenyeinsan2904-chiang-mai-university/Sweep/sweeps/nmaceo43' target=\"_blank\">https://wandb.ai/ayenyeinsan2904-chiang-mai-university/Sweep/sweeps/nmaceo43</a>"
            ],
            "text/plain": [
              "<IPython.core.display.HTML object>"
            ]
          },
          "metadata": {},
          "output_type": "display_data"
        },
        {
          "data": {
            "text/html": [
              " View run at <a href='https://wandb.ai/ayenyeinsan2904-chiang-mai-university/Sweep/runs/vplrlokg' target=\"_blank\">https://wandb.ai/ayenyeinsan2904-chiang-mai-university/Sweep/runs/vplrlokg</a>"
            ],
            "text/plain": [
              "<IPython.core.display.HTML object>"
            ]
          },
          "metadata": {},
          "output_type": "display_data"
        },
        {
          "name": "stderr",
          "output_type": "stream",
          "text": [
            "\u001b[34m\u001b[1mwandb\u001b[0m:   1 of 1 files downloaded.  \n"
          ]
        },
        {
          "data": {
            "text/html": [],
            "text/plain": [
              "<IPython.core.display.HTML object>"
            ]
          },
          "metadata": {},
          "output_type": "display_data"
        },
        {
          "data": {
            "text/html": [
              "<br>    <style><br>        .wandb-row {<br>            display: flex;<br>            flex-direction: row;<br>            flex-wrap: wrap;<br>            justify-content: flex-start;<br>            width: 100%;<br>        }<br>        .wandb-col {<br>            display: flex;<br>            flex-direction: column;<br>            flex-basis: 100%;<br>            flex: 1;<br>            padding: 10px;<br>        }<br>    </style><br><div class=\"wandb-row\"><div class=\"wandb-col\"><h3>Run history:</h3><br/><table class=\"wandb\"><tr><td>test_loss</td><td>█▆▆▄▅▃▄▃▂▃▃▃▂▁▁</td></tr><tr><td>train_loss</td><td>█▁▁▁▁▁▁▁▁▁▁▁▁▁▁</td></tr></table><br/></div><div class=\"wandb-col\"><h3>Run summary:</h3><br/><table class=\"wandb\"><tr><td>test_loss</td><td>0.56033</td></tr><tr><td>train_loss</td><td>0.61382</td></tr></table><br/></div></div>"
            ],
            "text/plain": [
              "<IPython.core.display.HTML object>"
            ]
          },
          "metadata": {},
          "output_type": "display_data"
        },
        {
          "data": {
            "text/html": [
              " View run <strong style=\"color:#cdcd00\">worldly-sweep-6</strong> at: <a href='https://wandb.ai/ayenyeinsan2904-chiang-mai-university/Sweep/runs/vplrlokg' target=\"_blank\">https://wandb.ai/ayenyeinsan2904-chiang-mai-university/Sweep/runs/vplrlokg</a><br> View project at: <a href='https://wandb.ai/ayenyeinsan2904-chiang-mai-university/Sweep' target=\"_blank\">https://wandb.ai/ayenyeinsan2904-chiang-mai-university/Sweep</a><br>Synced 5 W&B file(s), 0 media file(s), 0 artifact file(s) and 0 other file(s)"
            ],
            "text/plain": [
              "<IPython.core.display.HTML object>"
            ]
          },
          "metadata": {},
          "output_type": "display_data"
        },
        {
          "data": {
            "text/html": [
              "Find logs at: <code>./wandb/run-20250525_191634-vplrlokg/logs</code>"
            ],
            "text/plain": [
              "<IPython.core.display.HTML object>"
            ]
          },
          "metadata": {},
          "output_type": "display_data"
        },
        {
          "name": "stderr",
          "output_type": "stream",
          "text": [
            "\u001b[34m\u001b[1mwandb\u001b[0m: Agent Starting Run: snq6hyuv with config:\n",
            "\u001b[34m\u001b[1mwandb\u001b[0m: \tbatch_size: 32\n",
            "\u001b[34m\u001b[1mwandb\u001b[0m: \tlearning_rate: 0.05292651307103542\n",
            "\u001b[34m\u001b[1mwandb\u001b[0m: \tnum_epochs: 10\n",
            "\u001b[34m\u001b[1mwandb\u001b[0m: \toptimizer: adam\n"
          ]
        },
        {
          "data": {
            "text/html": [
              "Tracking run with wandb version 0.19.11"
            ],
            "text/plain": [
              "<IPython.core.display.HTML object>"
            ]
          },
          "metadata": {},
          "output_type": "display_data"
        },
        {
          "data": {
            "text/html": [
              "Run data is saved locally in <code>/content/wandb/run-20250525_191639-snq6hyuv</code>"
            ],
            "text/plain": [
              "<IPython.core.display.HTML object>"
            ]
          },
          "metadata": {},
          "output_type": "display_data"
        },
        {
          "data": {
            "text/html": [
              "Syncing run <strong><a href='https://wandb.ai/ayenyeinsan2904-chiang-mai-university/Sweep/runs/snq6hyuv' target=\"_blank\">soft-sweep-7</a></strong> to <a href='https://wandb.ai/ayenyeinsan2904-chiang-mai-university/Sweep' target=\"_blank\">Weights & Biases</a> (<a href='https://wandb.me/developer-guide' target=\"_blank\">docs</a>)<br>Sweep page: <a href='https://wandb.ai/ayenyeinsan2904-chiang-mai-university/Sweep/sweeps/nmaceo43' target=\"_blank\">https://wandb.ai/ayenyeinsan2904-chiang-mai-university/Sweep/sweeps/nmaceo43</a>"
            ],
            "text/plain": [
              "<IPython.core.display.HTML object>"
            ]
          },
          "metadata": {},
          "output_type": "display_data"
        },
        {
          "data": {
            "text/html": [
              " View project at <a href='https://wandb.ai/ayenyeinsan2904-chiang-mai-university/Sweep' target=\"_blank\">https://wandb.ai/ayenyeinsan2904-chiang-mai-university/Sweep</a>"
            ],
            "text/plain": [
              "<IPython.core.display.HTML object>"
            ]
          },
          "metadata": {},
          "output_type": "display_data"
        },
        {
          "data": {
            "text/html": [
              " View sweep at <a href='https://wandb.ai/ayenyeinsan2904-chiang-mai-university/Sweep/sweeps/nmaceo43' target=\"_blank\">https://wandb.ai/ayenyeinsan2904-chiang-mai-university/Sweep/sweeps/nmaceo43</a>"
            ],
            "text/plain": [
              "<IPython.core.display.HTML object>"
            ]
          },
          "metadata": {},
          "output_type": "display_data"
        },
        {
          "data": {
            "text/html": [
              " View run at <a href='https://wandb.ai/ayenyeinsan2904-chiang-mai-university/Sweep/runs/snq6hyuv' target=\"_blank\">https://wandb.ai/ayenyeinsan2904-chiang-mai-university/Sweep/runs/snq6hyuv</a>"
            ],
            "text/plain": [
              "<IPython.core.display.HTML object>"
            ]
          },
          "metadata": {},
          "output_type": "display_data"
        },
        {
          "name": "stderr",
          "output_type": "stream",
          "text": [
            "\u001b[34m\u001b[1mwandb\u001b[0m:   1 of 1 files downloaded.  \n"
          ]
        },
        {
          "data": {
            "text/html": [],
            "text/plain": [
              "<IPython.core.display.HTML object>"
            ]
          },
          "metadata": {},
          "output_type": "display_data"
        },
        {
          "data": {
            "text/html": [
              "<br>    <style><br>        .wandb-row {<br>            display: flex;<br>            flex-direction: row;<br>            flex-wrap: wrap;<br>            justify-content: flex-start;<br>            width: 100%;<br>        }<br>        .wandb-col {<br>            display: flex;<br>            flex-direction: column;<br>            flex-basis: 100%;<br>            flex: 1;<br>            padding: 10px;<br>        }<br>    </style><br><div class=\"wandb-row\"><div class=\"wandb-col\"><h3>Run history:</h3><br/><table class=\"wandb\"><tr><td>test_loss</td><td>█▇▆▄▄▁▂▁▁▂</td></tr><tr><td>train_loss</td><td>█▂▂▂▁▁▁▁▁▁</td></tr></table><br/></div><div class=\"wandb-col\"><h3>Run summary:</h3><br/><table class=\"wandb\"><tr><td>test_loss</td><td>0.49048</td></tr><tr><td>train_loss</td><td>0.49478</td></tr></table><br/></div></div>"
            ],
            "text/plain": [
              "<IPython.core.display.HTML object>"
            ]
          },
          "metadata": {},
          "output_type": "display_data"
        },
        {
          "data": {
            "text/html": [
              " View run <strong style=\"color:#cdcd00\">soft-sweep-7</strong> at: <a href='https://wandb.ai/ayenyeinsan2904-chiang-mai-university/Sweep/runs/snq6hyuv' target=\"_blank\">https://wandb.ai/ayenyeinsan2904-chiang-mai-university/Sweep/runs/snq6hyuv</a><br> View project at: <a href='https://wandb.ai/ayenyeinsan2904-chiang-mai-university/Sweep' target=\"_blank\">https://wandb.ai/ayenyeinsan2904-chiang-mai-university/Sweep</a><br>Synced 5 W&B file(s), 0 media file(s), 0 artifact file(s) and 0 other file(s)"
            ],
            "text/plain": [
              "<IPython.core.display.HTML object>"
            ]
          },
          "metadata": {},
          "output_type": "display_data"
        },
        {
          "data": {
            "text/html": [
              "Find logs at: <code>./wandb/run-20250525_191639-snq6hyuv/logs</code>"
            ],
            "text/plain": [
              "<IPython.core.display.HTML object>"
            ]
          },
          "metadata": {},
          "output_type": "display_data"
        },
        {
          "name": "stderr",
          "output_type": "stream",
          "text": [
            "\u001b[34m\u001b[1mwandb\u001b[0m: Agent Starting Run: 9ww9lfd6 with config:\n",
            "\u001b[34m\u001b[1mwandb\u001b[0m: \tbatch_size: 32\n",
            "\u001b[34m\u001b[1mwandb\u001b[0m: \tlearning_rate: 0.02428270229801251\n",
            "\u001b[34m\u001b[1mwandb\u001b[0m: \tnum_epochs: 10\n",
            "\u001b[34m\u001b[1mwandb\u001b[0m: \toptimizer: adam\n"
          ]
        },
        {
          "data": {
            "text/html": [
              "Tracking run with wandb version 0.19.11"
            ],
            "text/plain": [
              "<IPython.core.display.HTML object>"
            ]
          },
          "metadata": {},
          "output_type": "display_data"
        },
        {
          "data": {
            "text/html": [
              "Run data is saved locally in <code>/content/wandb/run-20250525_191644-9ww9lfd6</code>"
            ],
            "text/plain": [
              "<IPython.core.display.HTML object>"
            ]
          },
          "metadata": {},
          "output_type": "display_data"
        },
        {
          "data": {
            "text/html": [
              "Syncing run <strong><a href='https://wandb.ai/ayenyeinsan2904-chiang-mai-university/Sweep/runs/9ww9lfd6' target=\"_blank\">robust-sweep-8</a></strong> to <a href='https://wandb.ai/ayenyeinsan2904-chiang-mai-university/Sweep' target=\"_blank\">Weights & Biases</a> (<a href='https://wandb.me/developer-guide' target=\"_blank\">docs</a>)<br>Sweep page: <a href='https://wandb.ai/ayenyeinsan2904-chiang-mai-university/Sweep/sweeps/nmaceo43' target=\"_blank\">https://wandb.ai/ayenyeinsan2904-chiang-mai-university/Sweep/sweeps/nmaceo43</a>"
            ],
            "text/plain": [
              "<IPython.core.display.HTML object>"
            ]
          },
          "metadata": {},
          "output_type": "display_data"
        },
        {
          "data": {
            "text/html": [
              " View project at <a href='https://wandb.ai/ayenyeinsan2904-chiang-mai-university/Sweep' target=\"_blank\">https://wandb.ai/ayenyeinsan2904-chiang-mai-university/Sweep</a>"
            ],
            "text/plain": [
              "<IPython.core.display.HTML object>"
            ]
          },
          "metadata": {},
          "output_type": "display_data"
        },
        {
          "data": {
            "text/html": [
              " View sweep at <a href='https://wandb.ai/ayenyeinsan2904-chiang-mai-university/Sweep/sweeps/nmaceo43' target=\"_blank\">https://wandb.ai/ayenyeinsan2904-chiang-mai-university/Sweep/sweeps/nmaceo43</a>"
            ],
            "text/plain": [
              "<IPython.core.display.HTML object>"
            ]
          },
          "metadata": {},
          "output_type": "display_data"
        },
        {
          "data": {
            "text/html": [
              " View run at <a href='https://wandb.ai/ayenyeinsan2904-chiang-mai-university/Sweep/runs/9ww9lfd6' target=\"_blank\">https://wandb.ai/ayenyeinsan2904-chiang-mai-university/Sweep/runs/9ww9lfd6</a>"
            ],
            "text/plain": [
              "<IPython.core.display.HTML object>"
            ]
          },
          "metadata": {},
          "output_type": "display_data"
        },
        {
          "name": "stderr",
          "output_type": "stream",
          "text": [
            "\u001b[34m\u001b[1mwandb\u001b[0m:   1 of 1 files downloaded.  \n"
          ]
        },
        {
          "data": {
            "text/html": [],
            "text/plain": [
              "<IPython.core.display.HTML object>"
            ]
          },
          "metadata": {},
          "output_type": "display_data"
        },
        {
          "data": {
            "text/html": [
              "<br>    <style><br>        .wandb-row {<br>            display: flex;<br>            flex-direction: row;<br>            flex-wrap: wrap;<br>            justify-content: flex-start;<br>            width: 100%;<br>        }<br>        .wandb-col {<br>            display: flex;<br>            flex-direction: column;<br>            flex-basis: 100%;<br>            flex: 1;<br>            padding: 10px;<br>        }<br>    </style><br><div class=\"wandb-row\"><div class=\"wandb-col\"><h3>Run history:</h3><br/><table class=\"wandb\"><tr><td>test_loss</td><td>█▅▄▂▄▃▁▁▂▁</td></tr><tr><td>train_loss</td><td>█▄▃▂▂▃▁▂▁▁</td></tr></table><br/></div><div class=\"wandb-col\"><h3>Run summary:</h3><br/><table class=\"wandb\"><tr><td>test_loss</td><td>0.45442</td></tr><tr><td>train_loss</td><td>0.48375</td></tr></table><br/></div></div>"
            ],
            "text/plain": [
              "<IPython.core.display.HTML object>"
            ]
          },
          "metadata": {},
          "output_type": "display_data"
        },
        {
          "data": {
            "text/html": [
              " View run <strong style=\"color:#cdcd00\">robust-sweep-8</strong> at: <a href='https://wandb.ai/ayenyeinsan2904-chiang-mai-university/Sweep/runs/9ww9lfd6' target=\"_blank\">https://wandb.ai/ayenyeinsan2904-chiang-mai-university/Sweep/runs/9ww9lfd6</a><br> View project at: <a href='https://wandb.ai/ayenyeinsan2904-chiang-mai-university/Sweep' target=\"_blank\">https://wandb.ai/ayenyeinsan2904-chiang-mai-university/Sweep</a><br>Synced 5 W&B file(s), 0 media file(s), 0 artifact file(s) and 0 other file(s)"
            ],
            "text/plain": [
              "<IPython.core.display.HTML object>"
            ]
          },
          "metadata": {},
          "output_type": "display_data"
        },
        {
          "data": {
            "text/html": [
              "Find logs at: <code>./wandb/run-20250525_191644-9ww9lfd6/logs</code>"
            ],
            "text/plain": [
              "<IPython.core.display.HTML object>"
            ]
          },
          "metadata": {},
          "output_type": "display_data"
        },
        {
          "name": "stderr",
          "output_type": "stream",
          "text": [
            "\u001b[34m\u001b[1mwandb\u001b[0m: Agent Starting Run: l4jptkzp with config:\n",
            "\u001b[34m\u001b[1mwandb\u001b[0m: \tbatch_size: 32\n",
            "\u001b[34m\u001b[1mwandb\u001b[0m: \tlearning_rate: 0.06489965458573803\n",
            "\u001b[34m\u001b[1mwandb\u001b[0m: \tnum_epochs: 15\n",
            "\u001b[34m\u001b[1mwandb\u001b[0m: \toptimizer: sgd\n",
            "\u001b[34m\u001b[1mwandb\u001b[0m: Ctrl + C detected. Stopping sweep.\n"
          ]
        }
      ],
      "source": [
        "# def main():\n",
        "#   run = wandb.init()\n",
        "#   config = wandb.config\n",
        "\n",
        "#   # Get Train and Test Data\n",
        "#   artifact = run.use_artifact(\n",
        "#       artifact_or_name=f\"ayenyeinsan2904-chiang-mai-university/Artifacts Registry/clean_titanic:latest\"\n",
        "#   )\n",
        "#   path = artifact.download()\n",
        "#   df = pd.read_csv(f\"{path}/clean_titanic.csv\")\n",
        "#   X, y = df.drop('Survived', axis=1), df['Survived']\n",
        "#   X_train, X_test, y_train, y_test = train_test_split(X, y, test_size=0.2,\n",
        "#                                                       random_state=42)\n",
        "\n",
        "#   # Get PyTorch Data Loaders w/ batch_size\n",
        "#   train_loader, test_loader = get_data_loaders(X_train, X_test, y_train, y_test,\n",
        "#                                                batch_size=config.batch_size)\n",
        "\n",
        "#   # Define Simple PyTorch Model\n",
        "#   model = nn.Sequential(\n",
        "#       nn.Linear(7, 32), # 7 input features -> 32 hidden nodes\n",
        "#       nn.ReLU(),\n",
        "#       nn.Linear(32, 16),\n",
        "#       nn.ReLU(),\n",
        "#       nn.Linear(16, 1),\n",
        "#       nn.Sigmoid()\n",
        "#   ).to(device)\n",
        "\n",
        "#   # Loss Funciton\n",
        "#   criterion = nn.BCELoss()\n",
        "\n",
        "#   # Optimizer\n",
        "#   if config.optimizer == 'adam':\n",
        "#     optimizer = optim.Adam(model.parameters(), lr=config.learning_rate)\n",
        "#   else:\n",
        "#     optimizer = optim.SGD(model.parameters(), lr=config.learning_rate)\n",
        "\n",
        "#   for epoch in range(config.num_epochs):\n",
        "#     train_loss = train_loop(train_loader, model, optimizer, criterion, device)\n",
        "#     test_loss = train_loop(test_loader, model, optimizer, criterion, device)\n",
        "\n",
        "#     wandb.log({\n",
        "#       \"train_loss\": train_loss,\n",
        "#       \"test_loss\": test_loss\n",
        "#     })\n",
        "\n",
        "#   wandb.finish()\n",
        "\n",
        "# # Initialize the sweep\n",
        "# sweep_config = {\n",
        "#     \"method\": \"random\",\n",
        "#     \"metric\": {\"goal\": \"minimize\", \"name\": \"test_loss\"},\n",
        "#     \"parameters\": {\n",
        "#         \"learning_rate\": {\"min\": 0.001, \"max\": 0.1},\n",
        "#         \"batch_size\": {\"values\": [32, 64, 128]},\n",
        "#         \"optimizer\": {\"values\": [\"adam\", \"sgd\"]},\n",
        "#         \"num_epochs\": {\"values\": [5, 10, 15]}\n",
        "#     },\n",
        "# }\n",
        "# sweep_id = wandb.sweep(sweep_config, project='Sweep')\n",
        "\n",
        "# # Run the sweep\n",
        "# wandb.agent(sweep_id, function=main)"
      ]
    }
  ],
  "metadata": {
    "colab": {
      "provenance": []
    },
    "kernelspec": {
      "display_name": "Python 3",
      "name": "python3"
    },
    "language_info": {
      "name": "python"
    }
  },
  "nbformat": 4,
  "nbformat_minor": 0
}
